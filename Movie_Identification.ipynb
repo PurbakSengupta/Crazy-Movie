{
 "cells": [
  {
   "cell_type": "markdown",
   "id": "cba4b950-b236-45ab-8b1d-b054796a8d87",
   "metadata": {},
   "source": [
    "Project241208 JiahuiGuo Final version by VGG16"
   ]
  },
  {
   "cell_type": "code",
   "execution_count": 1,
   "id": "4b6e1d3e-70a6-4a65-8780-8512625f8689",
   "metadata": {},
   "outputs": [],
   "source": [
    "import os\n",
    "import pandas as pd\n",
    "from PIL import Image\n",
    "import torch\n",
    "from torch import tensor\n",
    "from torch.utils.data import Dataset, DataLoader\n",
    "import torchvision\n",
    "import torchvision.transforms as transforms\n",
    "import pandas as pd\n",
    "import matplotlib.pyplot as plt\n",
    "import numpy as np\n",
    "import PIL\n",
    "from sklearn.model_selection import train_test_split\n",
    "import torch.nn as nn\n",
    "from torchsummary import summary\n",
    "import torchvision.models as models\n",
    "import json"
   ]
  },
  {
   "cell_type": "code",
   "execution_count": null,
   "id": "f1b42273-15c1-48ee-b4b8-2000caed80a4",
   "metadata": {},
   "outputs": [],
   "source": [
    "os.getcwd()"
   ]
  },
  {
   "cell_type": "markdown",
   "id": "e31c4c1d-1433-4d6f-9525-0a1d0d9b03ca",
   "metadata": {},
   "source": [
    "**1.0** GPU"
   ]
  },
  {
   "cell_type": "code",
   "execution_count": 2,
   "id": "1e3f0275-17fd-445c-972e-ccb902f16887",
   "metadata": {},
   "outputs": [
    {
     "data": {
      "text/plain": [
       "'cpu'"
      ]
     },
     "execution_count": 2,
     "metadata": {},
     "output_type": "execute_result"
    }
   ],
   "source": [
    "device = (\n",
    "    \"cuda\" if torch.cuda.is_available()\n",
    "     else \"cpu\"\n",
    ")\n",
    "device"
   ]
  },
  {
   "cell_type": "markdown",
   "id": "f9197b15-44f5-4eed-b1d8-9a8779f9b00c",
   "metadata": {},
   "source": [
    "**2.0** Data preprocessing"
   ]
  },
  {
   "cell_type": "markdown",
   "id": "a3f444f4-449c-43eb-87e5-200b93cf2ee4",
   "metadata": {},
   "source": [
    "Only work on subset of data. Due to the memory, we have to run the code on the whole datasets by submitting batch job"
   ]
  },
  {
   "cell_type": "code",
   "execution_count": null,
   "id": "8b9fcb40-bd60-4499-af0f-9da3adf444fe",
   "metadata": {},
   "outputs": [],
   "source": [
    "def LoadingData():\n",
    "    xData = list() #graphs\n",
    "    yData = list() #labels\n",
    "    labelNameDict = dict() #dictionary\n",
    "    dataPath = \"/home/dl09e24/people/lilyguo/SmallSubset/\" #path! SUBSETOFDATA!\n",
    "    listdir = os.listdir(dataPath) #subfoldername\n",
    "    \n",
    "    for label,labelName in enumerate(listdir):\n",
    "        labelNameDict[label] = labelName\n",
    "        for filename in os.listdir(dataPath + labelName):\n",
    "            if not filename.endswith('.jpg'):\n",
    "                continue\n",
    "            imageSize = (32,32) #can be changed to (256,256)\n",
    "            x = PIL.Image.open(dataPath + labelName + '/' + filename).resize(imageSize)\n",
    "            x = torch.FloatTensor(np.array(x)) /255\n",
    "            #[32,32,3] -> [3,32,32]\n",
    "            x = x.permute(2,0,1)\n",
    "            xData.append(x)\n",
    "            yData.append(label)\n",
    "            \n",
    "    return xData, yData, labelNameDict"
   ]
  },
  {
   "cell_type": "code",
   "execution_count": null,
   "id": "dc5bf10c-1557-41ec-9111-03c6727cc4d5",
   "metadata": {},
   "outputs": [],
   "source": [
    "xData, yData, LabelNameDict = LoadingData()"
   ]
  },
  {
   "cell_type": "code",
   "execution_count": 8,
   "id": "f863a22e-f54c-4cf2-8cb3-320cce096b8f",
   "metadata": {},
   "outputs": [
    {
     "data": {
      "text/plain": [
       "(16000,\n",
       " 16000,\n",
       " torch.Size([3, 32, 32]),\n",
       " 0,\n",
       " {0: 'Mud (2012)',\n",
       "  1: 'The Boat That Rocked (2009)',\n",
       "  2: 'JFK (1991)',\n",
       "  3: 'A History of Violence (2005)',\n",
       "  4: 'The Warriors (1979)',\n",
       "  5: 'Foxcatcher (2014)',\n",
       "  6: 'Enchanted (2007)',\n",
       "  7: 'Slumdog Millionaire (2008)',\n",
       "  8: 'Vicky Cristina Barcelona (2008)',\n",
       "  9: 'The Equalizer (2014)',\n",
       "  10: 'Searching (2018)',\n",
       "  11: 'Ghandi (1982)',\n",
       "  12: 'Winters Bone (2010)',\n",
       "  13: 'Black Mirror Bandersnatch (2018)',\n",
       "  14: 'Star Trek II The Wrath of Khan (1982)',\n",
       "  15: 'As Good as It Gets (1997)',\n",
       "  16: 'Straight Outta Compton (2015)',\n",
       "  17: 'Highlander (1986)',\n",
       "  18: 'Indiana Jones And The Temple Of Doom (1984)',\n",
       "  19: 'Sing 2 (2021)'})"
      ]
     },
     "execution_count": 8,
     "metadata": {},
     "output_type": "execute_result"
    }
   ],
   "source": [
    "len(xData), len(yData), xData[0].shape, yData[0], LabelNameDict"
   ]
  },
  {
   "cell_type": "markdown",
   "id": "5e96465e-f29c-4973-a17a-bcc054a72944",
   "metadata": {},
   "source": [
    "**3.0** train/test"
   ]
  },
  {
   "cell_type": "code",
   "execution_count": null,
   "id": "5dd175ca-303c-41df-8648-815c52a10eba",
   "metadata": {},
   "outputs": [],
   "source": [
    "X_train, X_test, y_train, y_test = train_test_split(xData, yData, test_size=0.4, random_state=20241127)"
   ]
  },
  {
   "cell_type": "code",
   "execution_count": null,
   "id": "260d1801-4e8b-4123-b89b-95502c9ba396",
   "metadata": {},
   "outputs": [],
   "source": [
    "X_test, X_val, y_test, y_val = train_test_split(X_temp, y_temp, test_size=0.20, random_state=20241127)"
   ]
  },
  {
   "cell_type": "code",
   "execution_count": 19,
   "id": "c3a14b07-47b7-44c7-9d02-f180c29e2374",
   "metadata": {},
   "outputs": [
    {
     "data": {
      "text/plain": [
       "(801, 801, torch.Size([3, 32, 32]), 12)"
      ]
     },
     "execution_count": 19,
     "metadata": {},
     "output_type": "execute_result"
    }
   ],
   "source": [
    "len(X_val), len(y_val), X_val[0].shape, y_val[0]"
   ]
  },
  {
   "cell_type": "code",
   "execution_count": null,
   "id": "4fd16dbc-3843-4a90-b244-2da47ce0f4f8",
   "metadata": {},
   "outputs": [],
   "source": [
    "class Dataset(Dataset):\n",
    "    def __init__(self, X, Y):\n",
    "        self.X = X\n",
    "        self.Y = Y\n",
    "    def __len__(self):\n",
    "        return len(self.Y)\n",
    "    def __getitem__(self, i):\n",
    "        return self.X[i], self.Y[i]"
   ]
  },
  {
   "cell_type": "code",
   "execution_count": null,
   "id": "89d89f1c-6f69-44c5-afec-1f106b61d571",
   "metadata": {},
   "outputs": [],
   "source": [
    "train_dataset = Dataset(X_train,y_train)\n",
    "test_dataset = Dataset(X_test, y_test)\n",
    "val_dataset = Dataset(X_val, y_val)\n",
    "\n",
    "data_loader_train = torch.utils.data.DataLoader(train_dataset, batch_size=16, shuffle=True, drop_last=True)\n",
    "data_loader_test = torch.utils.data.DataLoader(test_dataset, batch_size=8, shuffle=False)\n",
    "data_loader_val = torch.utils.data.DataLoader(val_dataset, batch_size=8, shuffle=False)\n",
    "\n",
    "#The batch size will be adjusted to 512 for training dataset and 256 for test and validation datasets when we run it on the whole dataset "
   ]
  },
  {
   "cell_type": "markdown",
   "id": "02570055-e5dd-45ae-8a79-b5c253bbaaf5",
   "metadata": {},
   "source": [
    "**4.0** Neural Network"
   ]
  },
  {
   "cell_type": "code",
   "execution_count": 3,
   "id": "538682e4-5620-4858-a188-6be50465dfc5",
   "metadata": {},
   "outputs": [],
   "source": [
    "class VGG16Model(nn.Module):\n",
    "    def __init__(self, num_classes):\n",
    "        super(VGG16Model, self).__init__()\n",
    "        self.vgg16 = models.vgg16(pretrained=True)\n",
    "        self.vgg16.classifier = nn.Sequential(\n",
    "            nn.Linear(25088, 4096),\n",
    "            nn.ReLU(),\n",
    "            nn.Dropout(0.5),\n",
    "            nn.Linear(4096, 4096),\n",
    "            nn.ReLU(),\n",
    "            nn.Dropout(0.5),\n",
    "            nn.Linear(4096, num_classes)\n",
    "        )\n",
    "    def forward(self, x):\n",
    "        x = self.vgg16(x)  \n",
    "        return x"
   ]
  },
  {
   "cell_type": "code",
   "execution_count": 4,
   "id": "16db737e-06a9-442f-9d18-0d2ed03aaa56",
   "metadata": {},
   "outputs": [
    {
     "name": "stderr",
     "output_type": "stream",
     "text": [
      "/usr/local/lib/python3.10/dist-packages/torchvision/models/_utils.py:208: UserWarning: The parameter 'pretrained' is deprecated since 0.13 and may be removed in the future, please use 'weights' instead.\n",
      "  warnings.warn(\n",
      "/usr/local/lib/python3.10/dist-packages/torchvision/models/_utils.py:223: UserWarning: Arguments other than a weight enum or `None` for 'weights' are deprecated since 0.13 and may be removed in the future. The current behavior is equivalent to passing `weights=VGG16_Weights.IMAGENET1K_V1`. You can also use `weights=VGG16_Weights.DEFAULT` to get the most up-to-date weights.\n",
      "  warnings.warn(msg)\n"
     ]
    }
   ],
   "source": [
    "model = VGG16Model(num_classes=20).to(device)\n",
    "# The num_classes will be adjusted to the same length of the dictionary ('labelNameDict')"
   ]
  },
  {
   "cell_type": "code",
   "execution_count": 5,
   "id": "bb6d7d9c-63bb-4556-a2ce-8caca7bc2eb5",
   "metadata": {},
   "outputs": [
    {
     "data": {
      "text/plain": [
       "VGG16Model(\n",
       "  (vgg16): VGG(\n",
       "    (features): Sequential(\n",
       "      (0): Conv2d(3, 64, kernel_size=(3, 3), stride=(1, 1), padding=(1, 1))\n",
       "      (1): ReLU(inplace=True)\n",
       "      (2): Conv2d(64, 64, kernel_size=(3, 3), stride=(1, 1), padding=(1, 1))\n",
       "      (3): ReLU(inplace=True)\n",
       "      (4): MaxPool2d(kernel_size=2, stride=2, padding=0, dilation=1, ceil_mode=False)\n",
       "      (5): Conv2d(64, 128, kernel_size=(3, 3), stride=(1, 1), padding=(1, 1))\n",
       "      (6): ReLU(inplace=True)\n",
       "      (7): Conv2d(128, 128, kernel_size=(3, 3), stride=(1, 1), padding=(1, 1))\n",
       "      (8): ReLU(inplace=True)\n",
       "      (9): MaxPool2d(kernel_size=2, stride=2, padding=0, dilation=1, ceil_mode=False)\n",
       "      (10): Conv2d(128, 256, kernel_size=(3, 3), stride=(1, 1), padding=(1, 1))\n",
       "      (11): ReLU(inplace=True)\n",
       "      (12): Conv2d(256, 256, kernel_size=(3, 3), stride=(1, 1), padding=(1, 1))\n",
       "      (13): ReLU(inplace=True)\n",
       "      (14): Conv2d(256, 256, kernel_size=(3, 3), stride=(1, 1), padding=(1, 1))\n",
       "      (15): ReLU(inplace=True)\n",
       "      (16): MaxPool2d(kernel_size=2, stride=2, padding=0, dilation=1, ceil_mode=False)\n",
       "      (17): Conv2d(256, 512, kernel_size=(3, 3), stride=(1, 1), padding=(1, 1))\n",
       "      (18): ReLU(inplace=True)\n",
       "      (19): Conv2d(512, 512, kernel_size=(3, 3), stride=(1, 1), padding=(1, 1))\n",
       "      (20): ReLU(inplace=True)\n",
       "      (21): Conv2d(512, 512, kernel_size=(3, 3), stride=(1, 1), padding=(1, 1))\n",
       "      (22): ReLU(inplace=True)\n",
       "      (23): MaxPool2d(kernel_size=2, stride=2, padding=0, dilation=1, ceil_mode=False)\n",
       "      (24): Conv2d(512, 512, kernel_size=(3, 3), stride=(1, 1), padding=(1, 1))\n",
       "      (25): ReLU(inplace=True)\n",
       "      (26): Conv2d(512, 512, kernel_size=(3, 3), stride=(1, 1), padding=(1, 1))\n",
       "      (27): ReLU(inplace=True)\n",
       "      (28): Conv2d(512, 512, kernel_size=(3, 3), stride=(1, 1), padding=(1, 1))\n",
       "      (29): ReLU(inplace=True)\n",
       "      (30): MaxPool2d(kernel_size=2, stride=2, padding=0, dilation=1, ceil_mode=False)\n",
       "    )\n",
       "    (avgpool): AdaptiveAvgPool2d(output_size=(7, 7))\n",
       "    (classifier): Sequential(\n",
       "      (0): Linear(in_features=25088, out_features=4096, bias=True)\n",
       "      (1): ReLU()\n",
       "      (2): Dropout(p=0.5, inplace=False)\n",
       "      (3): Linear(in_features=4096, out_features=4096, bias=True)\n",
       "      (4): ReLU()\n",
       "      (5): Dropout(p=0.5, inplace=False)\n",
       "      (6): Linear(in_features=4096, out_features=20, bias=True)\n",
       "    )\n",
       "  )\n",
       ")"
      ]
     },
     "execution_count": 5,
     "metadata": {},
     "output_type": "execute_result"
    }
   ],
   "source": [
    "model"
   ]
  },
  {
   "cell_type": "code",
   "execution_count": 6,
   "id": "ab082e06-d2cc-4f5e-8ff3-653ed2527bfe",
   "metadata": {},
   "outputs": [
    {
     "name": "stdout",
     "output_type": "stream",
     "text": [
      "----------------------------------------------------------------\n",
      "        Layer (type)               Output Shape         Param #\n",
      "================================================================\n",
      "            Conv2d-1           [-1, 64, 32, 32]           1,792\n",
      "              ReLU-2           [-1, 64, 32, 32]               0\n",
      "            Conv2d-3           [-1, 64, 32, 32]          36,928\n",
      "              ReLU-4           [-1, 64, 32, 32]               0\n",
      "         MaxPool2d-5           [-1, 64, 16, 16]               0\n",
      "            Conv2d-6          [-1, 128, 16, 16]          73,856\n",
      "              ReLU-7          [-1, 128, 16, 16]               0\n",
      "            Conv2d-8          [-1, 128, 16, 16]         147,584\n",
      "              ReLU-9          [-1, 128, 16, 16]               0\n",
      "        MaxPool2d-10            [-1, 128, 8, 8]               0\n",
      "           Conv2d-11            [-1, 256, 8, 8]         295,168\n",
      "             ReLU-12            [-1, 256, 8, 8]               0\n",
      "           Conv2d-13            [-1, 256, 8, 8]         590,080\n",
      "             ReLU-14            [-1, 256, 8, 8]               0\n",
      "           Conv2d-15            [-1, 256, 8, 8]         590,080\n",
      "             ReLU-16            [-1, 256, 8, 8]               0\n",
      "        MaxPool2d-17            [-1, 256, 4, 4]               0\n",
      "           Conv2d-18            [-1, 512, 4, 4]       1,180,160\n",
      "             ReLU-19            [-1, 512, 4, 4]               0\n",
      "           Conv2d-20            [-1, 512, 4, 4]       2,359,808\n",
      "             ReLU-21            [-1, 512, 4, 4]               0\n",
      "           Conv2d-22            [-1, 512, 4, 4]       2,359,808\n",
      "             ReLU-23            [-1, 512, 4, 4]               0\n",
      "        MaxPool2d-24            [-1, 512, 2, 2]               0\n",
      "           Conv2d-25            [-1, 512, 2, 2]       2,359,808\n",
      "             ReLU-26            [-1, 512, 2, 2]               0\n",
      "           Conv2d-27            [-1, 512, 2, 2]       2,359,808\n",
      "             ReLU-28            [-1, 512, 2, 2]               0\n",
      "           Conv2d-29            [-1, 512, 2, 2]       2,359,808\n",
      "             ReLU-30            [-1, 512, 2, 2]               0\n",
      "        MaxPool2d-31            [-1, 512, 1, 1]               0\n",
      "AdaptiveAvgPool2d-32            [-1, 512, 7, 7]               0\n",
      "           Linear-33                 [-1, 4096]     102,764,544\n",
      "             ReLU-34                 [-1, 4096]               0\n",
      "          Dropout-35                 [-1, 4096]               0\n",
      "           Linear-36                 [-1, 4096]      16,781,312\n",
      "             ReLU-37                 [-1, 4096]               0\n",
      "          Dropout-38                 [-1, 4096]               0\n",
      "           Linear-39                   [-1, 20]          81,940\n",
      "              VGG-40                   [-1, 20]               0\n",
      "================================================================\n",
      "Total params: 134,342,484\n",
      "Trainable params: 134,342,484\n",
      "Non-trainable params: 0\n",
      "----------------------------------------------------------------\n",
      "Input size (MB): 0.01\n",
      "Forward/backward pass size (MB): 4.84\n",
      "Params size (MB): 512.48\n",
      "Estimated Total Size (MB): 517.32\n",
      "----------------------------------------------------------------\n"
     ]
    }
   ],
   "source": [
    "summary(model, input_size=(3, 32, 32))"
   ]
  },
  {
   "cell_type": "markdown",
   "id": "b0a72a6b-cc24-4629-897e-76fb107f18ba",
   "metadata": {},
   "source": [
    "class DeepCNN(nn.Module):\n",
    "    def __init__(self, num_classes=804):\n",
    "        super(DeepCNN, self).__init__()\n",
    "        \n",
    "        self.cnn = nn.Sequential(\n",
    "            nn.Conv2d(3, 32, kernel_size=3, stride=1, padding=1),  # Layer 1\n",
    "            nn.BatchNorm2d(32),\n",
    "            nn.ReLU(),\n",
    "            nn.Conv2d(32, 64, kernel_size=3, stride=1, padding=1),  # Layer 2\n",
    "            nn.BatchNorm2d(64),\n",
    "            nn.ReLU(),\n",
    "            nn.MaxPool2d(kernel_size=2, stride=2),  # Downsample to half\n",
    "            \n",
    "            nn.Conv2d(64, 128, kernel_size=3, stride=1, padding=1),  # Layer 3\n",
    "            nn.BatchNorm2d(128),\n",
    "            nn.ReLU(),\n",
    "            nn.Conv2d(128, 256, kernel_size=3, stride=1, padding=1),  # Layer 4\n",
    "            nn.BatchNorm2d(256),\n",
    "            nn.ReLU(),\n",
    "            nn.MaxPool2d(kernel_size=2, stride=2),  # Downsample to half\n",
    "            \n",
    "            nn.Conv2d(256, 512, kernel_size=3, stride=1, padding=1),  # Layer 5\n",
    "            nn.BatchNorm2d(512),\n",
    "            nn.ReLU(),\n",
    "            nn.Conv2d(512, 1024, kernel_size=3, stride=1, padding=1),  # Layer 6\n",
    "            nn.BatchNorm2d(1024),\n",
    "            nn.ReLU(),\n",
    "            nn.AdaptiveAvgPool2d((1, 1))  # Global Average Pooling\n",
    "        )\n",
    "        \n",
    "        # Fully connected layers for final classification\n",
    "        self.fc = nn.Sequential(\n",
    "            nn.Linear(1024, 512),\n",
    "            nn.ReLU(),\n",
    "            nn.Dropout(0.5),\n",
    "            nn.Linear(512, 84),  # Mimic intermediate layer\n",
    "            nn.ReLU(),\n",
    "            nn.Linear(84, num_classes)  # Final output layer\n",
    "        )\n",
    "\n",
    "    def forward(self, x):\n",
    "        features = self.cnn(x)  # Shape: [batch_size, 1024, 1, 1]\n",
    "        features = features.view(features.size(0), -1)  # Flatten to [batch_size, 1024]\n",
    "        x = self.fc(features)\n",
    "        return x"
   ]
  },
  {
   "cell_type": "code",
   "execution_count": null,
   "id": "a8f20467-5abe-4ffe-9188-e3cf0026b07f",
   "metadata": {},
   "outputs": [],
   "source": [
    "class ResNetModel(nn.Module):\n",
    "    def __init__(self, num_classes=804):\n",
    "        super(ResNetModel, self).__init__()\n",
    "        self.resnet = models.resnet50(pretrained=True)\n",
    "        self.resnet.fc = nn.Identity()  \n",
    "\n",
    "        self.fc_category = nn.Sequential(\n",
    "            nn.Linear(2048, 512),\n",
    "            nn.ReLU(),\n",
    "            nn.Dropout(0.5),\n",
    "            nn.Linear(512, num_classes)\n",
    "        )\n",
    "\n",
    "    def forward(self, input_tensor):\n",
    "        features = self.resnet(input_tensor)  \n",
    "        x = self.fc_category(features)  \n",
    "        return x"
   ]
  },
  {
   "cell_type": "code",
   "execution_count": null,
   "id": "60175446-f61c-4089-90cd-6794695092c8",
   "metadata": {},
   "outputs": [],
   "source": [
    "model = ResNetModel(num_classes=804).to(device)"
   ]
  },
  {
   "cell_type": "code",
   "execution_count": 12,
   "id": "3e78a6d4-40d4-4fed-82fb-29341245264c",
   "metadata": {},
   "outputs": [
    {
     "name": "stdout",
     "output_type": "stream",
     "text": [
      "----------------------------------------------------------------\n",
      "        Layer (type)               Output Shape         Param #\n",
      "================================================================\n",
      "            Conv2d-1           [-1, 64, 16, 16]           9,408\n",
      "       BatchNorm2d-2           [-1, 64, 16, 16]             128\n",
      "              ReLU-3           [-1, 64, 16, 16]               0\n",
      "         MaxPool2d-4             [-1, 64, 8, 8]               0\n",
      "            Conv2d-5             [-1, 64, 8, 8]           4,096\n",
      "       BatchNorm2d-6             [-1, 64, 8, 8]             128\n",
      "              ReLU-7             [-1, 64, 8, 8]               0\n",
      "            Conv2d-8             [-1, 64, 8, 8]          36,864\n",
      "       BatchNorm2d-9             [-1, 64, 8, 8]             128\n",
      "             ReLU-10             [-1, 64, 8, 8]               0\n",
      "           Conv2d-11            [-1, 256, 8, 8]          16,384\n",
      "      BatchNorm2d-12            [-1, 256, 8, 8]             512\n",
      "           Conv2d-13            [-1, 256, 8, 8]          16,384\n",
      "      BatchNorm2d-14            [-1, 256, 8, 8]             512\n",
      "             ReLU-15            [-1, 256, 8, 8]               0\n",
      "       Bottleneck-16            [-1, 256, 8, 8]               0\n",
      "           Conv2d-17             [-1, 64, 8, 8]          16,384\n",
      "      BatchNorm2d-18             [-1, 64, 8, 8]             128\n",
      "             ReLU-19             [-1, 64, 8, 8]               0\n",
      "           Conv2d-20             [-1, 64, 8, 8]          36,864\n",
      "      BatchNorm2d-21             [-1, 64, 8, 8]             128\n",
      "             ReLU-22             [-1, 64, 8, 8]               0\n",
      "           Conv2d-23            [-1, 256, 8, 8]          16,384\n",
      "      BatchNorm2d-24            [-1, 256, 8, 8]             512\n",
      "             ReLU-25            [-1, 256, 8, 8]               0\n",
      "       Bottleneck-26            [-1, 256, 8, 8]               0\n",
      "           Conv2d-27             [-1, 64, 8, 8]          16,384\n",
      "      BatchNorm2d-28             [-1, 64, 8, 8]             128\n",
      "             ReLU-29             [-1, 64, 8, 8]               0\n",
      "           Conv2d-30             [-1, 64, 8, 8]          36,864\n",
      "      BatchNorm2d-31             [-1, 64, 8, 8]             128\n",
      "             ReLU-32             [-1, 64, 8, 8]               0\n",
      "           Conv2d-33            [-1, 256, 8, 8]          16,384\n",
      "      BatchNorm2d-34            [-1, 256, 8, 8]             512\n",
      "             ReLU-35            [-1, 256, 8, 8]               0\n",
      "       Bottleneck-36            [-1, 256, 8, 8]               0\n",
      "           Conv2d-37            [-1, 128, 8, 8]          32,768\n",
      "      BatchNorm2d-38            [-1, 128, 8, 8]             256\n",
      "             ReLU-39            [-1, 128, 8, 8]               0\n",
      "           Conv2d-40            [-1, 128, 4, 4]         147,456\n",
      "      BatchNorm2d-41            [-1, 128, 4, 4]             256\n",
      "             ReLU-42            [-1, 128, 4, 4]               0\n",
      "           Conv2d-43            [-1, 512, 4, 4]          65,536\n",
      "      BatchNorm2d-44            [-1, 512, 4, 4]           1,024\n",
      "           Conv2d-45            [-1, 512, 4, 4]         131,072\n",
      "      BatchNorm2d-46            [-1, 512, 4, 4]           1,024\n",
      "             ReLU-47            [-1, 512, 4, 4]               0\n",
      "       Bottleneck-48            [-1, 512, 4, 4]               0\n",
      "           Conv2d-49            [-1, 128, 4, 4]          65,536\n",
      "      BatchNorm2d-50            [-1, 128, 4, 4]             256\n",
      "             ReLU-51            [-1, 128, 4, 4]               0\n",
      "           Conv2d-52            [-1, 128, 4, 4]         147,456\n",
      "      BatchNorm2d-53            [-1, 128, 4, 4]             256\n",
      "             ReLU-54            [-1, 128, 4, 4]               0\n",
      "           Conv2d-55            [-1, 512, 4, 4]          65,536\n",
      "      BatchNorm2d-56            [-1, 512, 4, 4]           1,024\n",
      "             ReLU-57            [-1, 512, 4, 4]               0\n",
      "       Bottleneck-58            [-1, 512, 4, 4]               0\n",
      "           Conv2d-59            [-1, 128, 4, 4]          65,536\n",
      "      BatchNorm2d-60            [-1, 128, 4, 4]             256\n",
      "             ReLU-61            [-1, 128, 4, 4]               0\n",
      "           Conv2d-62            [-1, 128, 4, 4]         147,456\n",
      "      BatchNorm2d-63            [-1, 128, 4, 4]             256\n",
      "             ReLU-64            [-1, 128, 4, 4]               0\n",
      "           Conv2d-65            [-1, 512, 4, 4]          65,536\n",
      "      BatchNorm2d-66            [-1, 512, 4, 4]           1,024\n",
      "             ReLU-67            [-1, 512, 4, 4]               0\n",
      "       Bottleneck-68            [-1, 512, 4, 4]               0\n",
      "           Conv2d-69            [-1, 128, 4, 4]          65,536\n",
      "      BatchNorm2d-70            [-1, 128, 4, 4]             256\n",
      "             ReLU-71            [-1, 128, 4, 4]               0\n",
      "           Conv2d-72            [-1, 128, 4, 4]         147,456\n",
      "      BatchNorm2d-73            [-1, 128, 4, 4]             256\n",
      "             ReLU-74            [-1, 128, 4, 4]               0\n",
      "           Conv2d-75            [-1, 512, 4, 4]          65,536\n",
      "      BatchNorm2d-76            [-1, 512, 4, 4]           1,024\n",
      "             ReLU-77            [-1, 512, 4, 4]               0\n",
      "       Bottleneck-78            [-1, 512, 4, 4]               0\n",
      "           Conv2d-79            [-1, 256, 4, 4]         131,072\n",
      "      BatchNorm2d-80            [-1, 256, 4, 4]             512\n",
      "             ReLU-81            [-1, 256, 4, 4]               0\n",
      "           Conv2d-82            [-1, 256, 2, 2]         589,824\n",
      "      BatchNorm2d-83            [-1, 256, 2, 2]             512\n",
      "             ReLU-84            [-1, 256, 2, 2]               0\n",
      "           Conv2d-85           [-1, 1024, 2, 2]         262,144\n",
      "      BatchNorm2d-86           [-1, 1024, 2, 2]           2,048\n",
      "           Conv2d-87           [-1, 1024, 2, 2]         524,288\n",
      "      BatchNorm2d-88           [-1, 1024, 2, 2]           2,048\n",
      "             ReLU-89           [-1, 1024, 2, 2]               0\n",
      "       Bottleneck-90           [-1, 1024, 2, 2]               0\n",
      "           Conv2d-91            [-1, 256, 2, 2]         262,144\n",
      "      BatchNorm2d-92            [-1, 256, 2, 2]             512\n",
      "             ReLU-93            [-1, 256, 2, 2]               0\n",
      "           Conv2d-94            [-1, 256, 2, 2]         589,824\n",
      "      BatchNorm2d-95            [-1, 256, 2, 2]             512\n",
      "             ReLU-96            [-1, 256, 2, 2]               0\n",
      "           Conv2d-97           [-1, 1024, 2, 2]         262,144\n",
      "      BatchNorm2d-98           [-1, 1024, 2, 2]           2,048\n",
      "             ReLU-99           [-1, 1024, 2, 2]               0\n",
      "      Bottleneck-100           [-1, 1024, 2, 2]               0\n",
      "          Conv2d-101            [-1, 256, 2, 2]         262,144\n",
      "     BatchNorm2d-102            [-1, 256, 2, 2]             512\n",
      "            ReLU-103            [-1, 256, 2, 2]               0\n",
      "          Conv2d-104            [-1, 256, 2, 2]         589,824\n",
      "     BatchNorm2d-105            [-1, 256, 2, 2]             512\n",
      "            ReLU-106            [-1, 256, 2, 2]               0\n",
      "          Conv2d-107           [-1, 1024, 2, 2]         262,144\n",
      "     BatchNorm2d-108           [-1, 1024, 2, 2]           2,048\n",
      "            ReLU-109           [-1, 1024, 2, 2]               0\n",
      "      Bottleneck-110           [-1, 1024, 2, 2]               0\n",
      "          Conv2d-111            [-1, 256, 2, 2]         262,144\n",
      "     BatchNorm2d-112            [-1, 256, 2, 2]             512\n",
      "            ReLU-113            [-1, 256, 2, 2]               0\n",
      "          Conv2d-114            [-1, 256, 2, 2]         589,824\n",
      "     BatchNorm2d-115            [-1, 256, 2, 2]             512\n",
      "            ReLU-116            [-1, 256, 2, 2]               0\n",
      "          Conv2d-117           [-1, 1024, 2, 2]         262,144\n",
      "     BatchNorm2d-118           [-1, 1024, 2, 2]           2,048\n",
      "            ReLU-119           [-1, 1024, 2, 2]               0\n",
      "      Bottleneck-120           [-1, 1024, 2, 2]               0\n",
      "          Conv2d-121            [-1, 256, 2, 2]         262,144\n",
      "     BatchNorm2d-122            [-1, 256, 2, 2]             512\n",
      "            ReLU-123            [-1, 256, 2, 2]               0\n",
      "          Conv2d-124            [-1, 256, 2, 2]         589,824\n",
      "     BatchNorm2d-125            [-1, 256, 2, 2]             512\n",
      "            ReLU-126            [-1, 256, 2, 2]               0\n",
      "          Conv2d-127           [-1, 1024, 2, 2]         262,144\n",
      "     BatchNorm2d-128           [-1, 1024, 2, 2]           2,048\n",
      "            ReLU-129           [-1, 1024, 2, 2]               0\n",
      "      Bottleneck-130           [-1, 1024, 2, 2]               0\n",
      "          Conv2d-131            [-1, 256, 2, 2]         262,144\n",
      "     BatchNorm2d-132            [-1, 256, 2, 2]             512\n",
      "            ReLU-133            [-1, 256, 2, 2]               0\n",
      "          Conv2d-134            [-1, 256, 2, 2]         589,824\n",
      "     BatchNorm2d-135            [-1, 256, 2, 2]             512\n",
      "            ReLU-136            [-1, 256, 2, 2]               0\n",
      "          Conv2d-137           [-1, 1024, 2, 2]         262,144\n",
      "     BatchNorm2d-138           [-1, 1024, 2, 2]           2,048\n",
      "            ReLU-139           [-1, 1024, 2, 2]               0\n",
      "      Bottleneck-140           [-1, 1024, 2, 2]               0\n",
      "          Conv2d-141            [-1, 512, 2, 2]         524,288\n",
      "     BatchNorm2d-142            [-1, 512, 2, 2]           1,024\n",
      "            ReLU-143            [-1, 512, 2, 2]               0\n",
      "          Conv2d-144            [-1, 512, 1, 1]       2,359,296\n",
      "     BatchNorm2d-145            [-1, 512, 1, 1]           1,024\n",
      "            ReLU-146            [-1, 512, 1, 1]               0\n",
      "          Conv2d-147           [-1, 2048, 1, 1]       1,048,576\n",
      "     BatchNorm2d-148           [-1, 2048, 1, 1]           4,096\n",
      "          Conv2d-149           [-1, 2048, 1, 1]       2,097,152\n",
      "     BatchNorm2d-150           [-1, 2048, 1, 1]           4,096\n",
      "            ReLU-151           [-1, 2048, 1, 1]               0\n",
      "      Bottleneck-152           [-1, 2048, 1, 1]               0\n",
      "          Conv2d-153            [-1, 512, 1, 1]       1,048,576\n",
      "     BatchNorm2d-154            [-1, 512, 1, 1]           1,024\n",
      "            ReLU-155            [-1, 512, 1, 1]               0\n",
      "          Conv2d-156            [-1, 512, 1, 1]       2,359,296\n",
      "     BatchNorm2d-157            [-1, 512, 1, 1]           1,024\n",
      "            ReLU-158            [-1, 512, 1, 1]               0\n",
      "          Conv2d-159           [-1, 2048, 1, 1]       1,048,576\n",
      "     BatchNorm2d-160           [-1, 2048, 1, 1]           4,096\n",
      "            ReLU-161           [-1, 2048, 1, 1]               0\n",
      "      Bottleneck-162           [-1, 2048, 1, 1]               0\n",
      "          Conv2d-163            [-1, 512, 1, 1]       1,048,576\n",
      "     BatchNorm2d-164            [-1, 512, 1, 1]           1,024\n",
      "            ReLU-165            [-1, 512, 1, 1]               0\n",
      "          Conv2d-166            [-1, 512, 1, 1]       2,359,296\n",
      "     BatchNorm2d-167            [-1, 512, 1, 1]           1,024\n",
      "            ReLU-168            [-1, 512, 1, 1]               0\n",
      "          Conv2d-169           [-1, 2048, 1, 1]       1,048,576\n",
      "     BatchNorm2d-170           [-1, 2048, 1, 1]           4,096\n",
      "            ReLU-171           [-1, 2048, 1, 1]               0\n",
      "      Bottleneck-172           [-1, 2048, 1, 1]               0\n",
      "AdaptiveAvgPool2d-173           [-1, 2048, 1, 1]               0\n",
      "        Identity-174                 [-1, 2048]               0\n",
      "          ResNet-175                 [-1, 2048]               0\n",
      "          Linear-176                  [-1, 512]       1,049,088\n",
      "            ReLU-177                  [-1, 512]               0\n",
      "         Dropout-178                  [-1, 512]               0\n",
      "          Linear-179                  [-1, 804]         412,452\n",
      "================================================================\n",
      "Total params: 24,969,572\n",
      "Trainable params: 24,969,572\n",
      "Non-trainable params: 0\n",
      "----------------------------------------------------------------\n",
      "Input size (MB): 0.01\n",
      "Forward/backward pass size (MB): 5.91\n",
      "Params size (MB): 95.25\n",
      "Estimated Total Size (MB): 101.18\n",
      "----------------------------------------------------------------\n"
     ]
    }
   ],
   "source": [
    "summary(model, input_size=(3, 32, 32))"
   ]
  },
  {
   "cell_type": "markdown",
   "id": "cee832b5-b150-46e7-97ba-5d7c348d4f1d",
   "metadata": {},
   "source": [
    "**5.0** optimizer & loss function"
   ]
  },
  {
   "cell_type": "code",
   "execution_count": null,
   "id": "de8e88fd-a3fa-40cc-9448-10eb7c0f8ba5",
   "metadata": {},
   "outputs": [],
   "source": [
    "optimizer = torch.optim.Adam(model.parameters(), lr=1e-4)\n",
    "loss_fn = nn.CrossEntropyLoss()"
   ]
  },
  {
   "cell_type": "markdown",
   "id": "38adcfa1-1b34-4277-b3b3-7010af7bbeb1",
   "metadata": {},
   "source": [
    "**6.0** training approach"
   ]
  },
  {
   "cell_type": "code",
   "execution_count": null,
   "id": "54604b5e-6d2b-4d1e-b9b5-f6003cd29b82",
   "metadata": {},
   "outputs": [],
   "source": [
    "train_losses = []\n",
    "test_losses = []\n",
    "val_losses = []  \n",
    "train_accuracies = []\n",
    "test_accuracies = []\n",
    "val_accuracies = []  \n",
    "\n",
    "def train(dataloader, model, loss_fn, optimizer):\n",
    "    size = len(dataloader.dataset)\n",
    "    model.train()\n",
    "    total_loss, correct = 0, 0  \n",
    "\n",
    "    for batch, (X, y) in enumerate(dataloader):\n",
    "        X, y = X.to(device), y.to(device)\n",
    "        pred = model(X)\n",
    "        loss = loss_fn(pred, y)\n",
    "        total_loss += loss.item()\n",
    "        optimizer.zero_grad()\n",
    "        loss.backward()\n",
    "        optimizer.step()\n",
    "        \n",
    "        correct += (pred.argmax(1) == y).type(torch.float).sum().item()\n",
    "        if batch % 100 == 0:\n",
    "            loss, current = loss.item(), (batch + 1) * len(X)\n",
    "            print(f\"loss: {loss:>7f}  [{current:>5d}/{size:>5d}]\")\n",
    "    avg_loss = total_loss / len(dataloader)  \n",
    "    avg_accuracy = correct / size\n",
    "    train_losses.append(avg_loss) \n",
    "    train_accuracies.append(avg_accuracy)\n",
    "    print(f\"Train loss: {avg_loss:>7f}, Accuracy: {(100*avg_accuracy):>0.1f}%\")"
   ]
  },
  {
   "cell_type": "code",
   "execution_count": null,
   "id": "735fd482-f023-4784-ad5d-a12a60c4028e",
   "metadata": {},
   "outputs": [],
   "source": [
    "def validate(dataloader, model, loss_fn):\n",
    "    size = len(dataloader.dataset)\n",
    "    num_batches = len(dataloader)\n",
    "    model.eval()\n",
    "    val_loss, correct = 0, 0\n",
    "    with torch.no_grad():\n",
    "        for X, y in dataloader:\n",
    "            X, y = X.to(device), y.to(device)\n",
    "            pred = model(X)\n",
    "            val_loss += loss_fn(pred, y).item()\n",
    "            correct += (pred.argmax(1) == y).type(torch.float).sum().item()\n",
    "\n",
    "    avg_val_loss = val_loss / num_batches\n",
    "    avg_val_accuracy = correct / size\n",
    "    val_losses.append(avg_val_loss)  \n",
    "    val_accuracies.append(avg_val_accuracy)  \n",
    "    print(f\"Validation Error: \\n Avg loss: {avg_val_loss:>8f}, Accuracy: {(100*avg_val_accuracy):>0.1f}% \\n\")"
   ]
  },
  {
   "cell_type": "code",
   "execution_count": null,
   "id": "3a4e5e34-1181-4889-9ad1-a4bc26359c0e",
   "metadata": {},
   "outputs": [],
   "source": [
    "def test(dataloader, model, loss_fn):\n",
    "    size = len(dataloader.dataset)\n",
    "    num_batches = len(dataloader)\n",
    "    model.eval()\n",
    "    val_loss, correct = 0, 0\n",
    "    with torch.no_grad():\n",
    "        for X, y in dataloader:\n",
    "            X, y = X.to(device), y.to(device)\n",
    "            pred = model(X)\n",
    "            val_loss += loss_fn(pred, y).item()\n",
    "            correct += (pred.argmax(1) == y).type(torch.float).sum().item()\n",
    "\n",
    "    avg_test_loss = test_loss / num_batches\n",
    "    avg_test_accuracy = correct / size\n",
    "    test_losses.append(avg_test_loss)  \n",
    "    test_accuracies.append(avg_test_accuracy)  \n",
    "    print(f\"Test Error: \\n Avg loss: {avg_test_loss:>8f}, Accuracy: {(100*avg_test_accuracy):>0.1f}% \\n\")"
   ]
  },
  {
   "cell_type": "code",
   "execution_count": null,
   "id": "8e83d59b-7b18-4496-b1ee-0f32a8c1ea89",
   "metadata": {},
   "outputs": [],
   "source": [
    "epochs = 100\n",
    "for t in range(epochs):\n",
    "    print(f\"Epoch {t+1}\\n-------------------------------\")\n",
    "    train(data_loader_train, model, loss_fn, optimizer)\n",
    "    validate(data_loader_val, model, loss_fn)\n",
    "\n",
    "test(data_loader_test, model, loss_fn)\n",
    "print(\"Done!\")"
   ]
  },
  {
   "cell_type": "markdown",
   "id": "d1a13441-5e90-406e-92f9-10040d2c8449",
   "metadata": {},
   "source": [
    "#Can't get results due to limited memory  \n",
    "#We got results by submitting batch job"
   ]
  },
  {
   "cell_type": "markdown",
   "id": "a5fe56e8-a861-493c-8164-688d3eaad5ac",
   "metadata": {},
   "source": [
    "**7.0** Results  \n",
    "#Actually got results by batch job"
   ]
  },
  {
   "cell_type": "markdown",
   "id": "c01b73bc-15a0-482b-939f-97c559142848",
   "metadata": {},
   "source": [
    "**7.1** The performance of VGG16 model over 100 epochs"
   ]
  },
  {
   "cell_type": "code",
   "execution_count": 10,
   "id": "645cbbce-76ab-47c8-9ebf-bcab4b6d89f7",
   "metadata": {},
   "outputs": [],
   "source": [
    "with open(\"/pfs/lustrep3/scratch/project_465001578/people/Complexmodel/vgg_whole_output/vgg16_whole_Acc.txt\", \"r\") as file:\n",
    "    content = file.readlines()\n",
    "\n",
    "metrics = {\n",
    "    \"Train_loss\": [],\n",
    "    \"Train_acc\": [],\n",
    "    \"Val_loss\": [],\n",
    "    \"Val_acc\": []\n",
    "}\n",
    "\n",
    "for line in content:\n",
    "    if \"Train Loss\" in line or \"Val Loss\" in line:\n",
    "        parts = line.strip().split(\", \")\n",
    "        for part in parts:\n",
    "            label, value = part.split(\": \")\n",
    "            if \"Train Loss\" in label:\n",
    "                metrics[\"Train_loss\"].append(float(value))\n",
    "            elif \"Train Acc\" in label:\n",
    "                metrics[\"Train_acc\"].append(float(value))\n",
    "            elif \"Val Loss\" in label:\n",
    "                metrics[\"Val_loss\"].append(float(value))\n",
    "            elif \"Val Acc\" in label:\n",
    "                metrics[\"Val_acc\"].append(float(value))"
   ]
  },
  {
   "cell_type": "code",
   "execution_count": 11,
   "id": "efe98793-1b18-4f53-865c-f40e2b4cadaf",
   "metadata": {},
   "outputs": [
    {
     "data": {
      "image/png": "[encoded data removed]",
      "text/plain": [
       "<Figure size 640x480 with 2 Axes>"
      ]
     },
     "metadata": {},
     "output_type": "display_data"
    }
   ],
   "source": [
    "epochs = range(1, len(metrics[\"Train_loss\"]) + 1)\n",
    "\n",
    "#plt.figure(figsize=(10, 8))\n",
    "plt.subplot(2, 1, 1)\n",
    "plt.plot(epochs, metrics[\"Train_loss\"], label=\"Train Loss\", marker='o')\n",
    "plt.plot(epochs, metrics[\"Val_loss\"], label=\"Validation Loss\", marker='o')\n",
    "plt.xlabel(\"Epochs\")\n",
    "plt.ylabel(\"Loss\")\n",
    "plt.title(\"Training and Validation Loss over Epochs\")\n",
    "plt.legend()\n",
    "\n",
    "plt.subplot(2, 1, 2)\n",
    "plt.plot(epochs, metrics[\"Train_acc\"], label=\"Train Accuracy\", marker='o')\n",
    "plt.plot(epochs, metrics[\"Val_acc\"], label=\"Validation Accuracy\", marker='o')\n",
    "plt.xlabel(\"Epochs\")\n",
    "plt.ylabel(\"Accuracy\")\n",
    "plt.title(\"Training and Validation Accuracy over Epochs\")\n",
    "plt.legend()\n",
    "\n",
    "plt.tight_layout()\n",
    "plt.show()"
   ]
  },
  {
   "cell_type": "markdown",
   "id": "98ba7de5-578f-4bbf-a5a3-9a2fcaada98d",
   "metadata": {},
   "source": [
    "**7.2** Test accuracy of VGG16 model"
   ]
  },
  {
   "cell_type": "code",
   "execution_count": 17,
   "id": "11164c3b-54b4-4193-917a-c3b8aa5c1d21",
   "metadata": {},
   "outputs": [],
   "source": [
    "file_path = \"/pfs/lustrep3/scratch/project_465001578/people/Complexmodel/vgg_whole_output/final_test_metrics.json\"\n",
    "\n",
    "with open(file_path, \"r\") as file:\n",
    "    Testacc = json.load(file)\n",
    "classification_report = Testacc['classification_report']"
   ]
  },
  {
   "cell_type": "code",
   "execution_count": 20,
   "id": "774d944f-103d-4e08-a0f8-d92482fcc619",
   "metadata": {},
   "outputs": [
    {
     "data": {
      "text/plain": [
       "0.4024770132453892"
      ]
     },
     "execution_count": 20,
     "metadata": {},
     "output_type": "execute_result"
    }
   ],
   "source": [
    "Testacc['accuracy']"
   ]
  },
  {
   "cell_type": "code",
   "execution_count": 18,
   "id": "f56dd3a9-a806-443a-9865-22e21a082244",
   "metadata": {},
   "outputs": [
    {
     "name": "stdout",
     "output_type": "stream",
     "text": [
      "Top 10 Classes by Precision:\n",
      "1. Class: Changeling (2008), Precision: 0.967741935483871\n",
      "2. Class: Man on Fire (2004), Precision: 0.9532019704433498\n",
      "3. Class: The Last of the Mohicans DDC (1992), Precision: 0.9142091152815014\n",
      "4. Class: Babel (2006), Precision: 0.9129287598944591\n",
      "5. Class: The Unforgivable (2021), Precision: 0.8938053097345132\n",
      "6. Class: The Grand Budapest Hotel (2014), Precision: 0.8664850136239782\n",
      "7. Class: Carnage (2011), Precision: 0.850609756097561\n",
      "8. Class: Dr. Strangelove or How I Learned to Stop Worrying and Love the Bomb (1964), Precision: 0.84\n",
      "9. Class: Before Sunset (2004), Precision: 0.8198757763975155\n",
      "10. Class: The Breakfast Club (1985), Precision: 0.8161993769470405\n",
      "\n",
      "Top 10 Classes by Recall:\n",
      "1. Class: Changeling (2008), Recall: 0.9880239520958084\n",
      "2. Class: Man on Fire (2004), Recall: 0.979746835443038\n",
      "3. Class: Babel (2006), Recall: 0.9402173913043478\n",
      "4. Class: The Last of the Mohicans DDC (1992), Recall: 0.9191374663072777\n",
      "5. Class: The Unforgivable (2021), Recall: 0.9044776119402985\n",
      "6. Class: The Grand Budapest Hotel (2014), Recall: 0.9034090909090909\n",
      "7. Class: Pi (1998), Recall: 0.8888888888888888\n",
      "8. Class: The Hateful Eight (2015), Recall: 0.8688046647230321\n",
      "9. Class: Buried (2010), Recall: 0.8521505376344086\n",
      "10. Class: Midnight In Paris (2011), Recall: 0.847887323943662\n",
      "\n",
      "Top 10 Classes by F1-score:\n",
      "1. Class: Changeling (2008), F1-score: 0.9777777777777777\n",
      "2. Class: Man on Fire (2004), F1-score: 0.9662921348314607\n",
      "3. Class: Babel (2006), F1-score: 0.9263721552878179\n",
      "4. Class: The Last of the Mohicans DDC (1992), F1-score: 0.9166666666666666\n",
      "5. Class: The Unforgivable (2021), F1-score: 0.8991097922848664\n",
      "6. Class: The Grand Budapest Hotel (2014), F1-score: 0.8845618915159944\n",
      "7. Class: Pi (1998), F1-score: 0.837465564738292\n",
      "8. Class: Buried (2010), F1-score: 0.8320209973753281\n",
      "9. Class: Dr. Strangelove or How I Learned to Stop Worrying and Love the Bomb (1964), F1-score: 0.8189415041782729\n",
      "10. Class: The Hateful Eight (2015), F1-score: 0.8130968622100955\n"
     ]
    }
   ],
   "source": [
    "def get_metric(class_name, metric):\n",
    "    if isinstance(classification_report[class_name], dict):\n",
    "        return classification_report[class_name].get(metric, float('-inf'))  \n",
    "    return float('-inf')  \n",
    "\n",
    "top_10_precision = sorted(classification_report.items(), key=lambda x: get_metric(x[0], 'precision'), reverse=True)[:10]\n",
    "top_10_recall = sorted(classification_report.items(), key=lambda x: get_metric(x[0], 'recall'), reverse=True)[:10]\n",
    "top_10_f1_score = sorted(classification_report.items(), key=lambda x: get_metric(x[0], 'f1-score'), reverse=True)[:10]\n",
    "\n",
    "print(\"Top 10 Classes by Precision:\")\n",
    "for i, (class_name, metrics) in enumerate(top_10_precision, 1):\n",
    "    print(f\"{i}. Class: {class_name}, Precision: {metrics['precision']}\")\n",
    "print(\"\\nTop 10 Classes by Recall:\")\n",
    "for i, (class_name, metrics) in enumerate(top_10_recall, 1):\n",
    "    print(f\"{i}. Class: {class_name}, Recall: {metrics['recall']}\")\n",
    "print(\"\\nTop 10 Classes by F1-score:\")\n",
    "for i, (class_name, metrics) in enumerate(top_10_f1_score, 1):\n",
    "    print(f\"{i}. Class: {class_name}, F1-score: {metrics['f1-score']}\")"
   ]
  },
  {
   "cell_type": "code",
   "execution_count": 19,
   "id": "393411c4-d9a1-4dad-81a8-b3ad6e063df9",
   "metadata": {},
   "outputs": [
    {
     "name": "stdout",
     "output_type": "stream",
     "text": [
      "Bottom 10 Classes by Precision:\n",
      "1. Class: Kingdom Of Heaven (2005), Precision: 0.0425531914893617\n",
      "2. Class: Face Off (1997), Precision: 0.10126582278481013\n",
      "3. Class: The Adventures of Tintin (2011), Precision: 0.11343283582089553\n",
      "4. Class: The Fugitive (1993), Precision: 0.11475409836065574\n",
      "5. Class: The Incredibles (2004), Precision: 0.1266891891891892\n",
      "6. Class: Captain America Civil War (2016), Precision: 0.14102564102564102\n",
      "7. Class: The X Files (1998), Precision: 0.1462882096069869\n",
      "8. Class: Elvis (2022), Precision: 0.14754098360655737\n",
      "9. Class: Snowden (2016), Precision: 0.1553672316384181\n",
      "10. Class: Coach Carter (2005), Precision: 0.15764705882352942\n",
      "\n",
      "Bottom 10 Classes by Recall:\n",
      "1. Class: The Adventures of Tintin (2011), Recall: 0.10410958904109589\n",
      "2. Class: Face Off (1997), Recall: 0.11080332409972299\n",
      "3. Class: Star Trek (2009), Recall: 0.12023460410557185\n",
      "4. Class: Elvis (2022), Recall: 0.1226158038147139\n",
      "5. Class: The Fugitive (1993), Recall: 0.1242603550295858\n",
      "6. Class: Grindhouse (2007), Recall: 0.12466124661246612\n",
      "7. Class: Cold Moutians (2003), Recall: 0.12968299711815562\n",
      "8. Class: The Rock (1996), Recall: 0.13316582914572864\n",
      "9. Class: X-Men 2 (2003), Recall: 0.13414634146341464\n",
      "10. Class: Star Wars Episode III - Revenge Of The Sith (2005), Recall: 0.13855421686746988\n",
      "\n",
      "Bottom 10 Classes by F1-score:\n",
      "1. Class: Kingdom Of Heaven (2005), F1-score: 0.06633906633906633\n",
      "2. Class: Face Off (1997), F1-score: 0.10582010582010581\n",
      "3. Class: The Adventures of Tintin (2011), F1-score: 0.10857142857142857\n",
      "4. Class: The Fugitive (1993), F1-score: 0.11931818181818182\n",
      "5. Class: Elvis (2022), F1-score: 0.13392857142857142\n",
      "6. Class: Grindhouse (2007), F1-score: 0.1419753086419753\n",
      "7. Class: Star Trek (2009), F1-score: 0.14411247803163443\n",
      "8. Class: Captain America Civil War (2016), F1-score: 0.1455026455026455\n",
      "9. Class: Star Wars Episode III - Revenge Of The Sith (2005), F1-score: 0.14862681744749595\n",
      "10. Class: X-Men 2 (2003), F1-score: 0.15384615384615385\n"
     ]
    }
   ],
   "source": [
    "def get_metric(class_name, metric):\n",
    "    if isinstance(classification_report[class_name], dict):\n",
    "        return classification_report[class_name].get(metric, float('inf')) \n",
    "    return float('inf') \n",
    "\n",
    "top_10_precision = sorted(classification_report.items(), key=lambda x: get_metric(x[0], 'precision'))[:10]\n",
    "top_10_recall = sorted(classification_report.items(), key=lambda x: get_metric(x[0], 'recall'))[:10]\n",
    "top_10_f1_score = sorted(classification_report.items(), key=lambda x: get_metric(x[0], 'f1-score'))[:10]\n",
    "\n",
    "print(\"Bottom 10 Classes by Precision:\")\n",
    "for i, (class_name, metrics) in enumerate(top_10_precision, 1):\n",
    "    print(f\"{i}. Class: {class_name}, Precision: {metrics['precision']}\")\n",
    "print(\"\\nBottom 10 Classes by Recall:\")\n",
    "for i, (class_name, metrics) in enumerate(top_10_recall, 1):\n",
    "    print(f\"{i}. Class: {class_name}, Recall: {metrics['recall']}\")\n",
    "print(\"\\nBottom 10 Classes by F1-score:\")\n",
    "for i, (class_name, metrics) in enumerate(top_10_f1_score, 1):\n",
    "    print(f\"{i}. Class: {class_name}, F1-score: {metrics['f1-score']}\")"
   ]
  },
  {
   "cell_type": "code",
   "execution_count": 21,
   "id": "2b2ad1d6-92ae-4618-89dc-c8eeb12de1f2",
   "metadata": {},
   "outputs": [
    {
     "data": {
      "image/png": "[encoded data removed]",
      "text/plain": [
       "<Figure size 1800x600 with 3 Axes>"
      ]
     },
     "metadata": {},
     "output_type": "display_data"
    }
   ],
   "source": [
    "class_metrics = {class_name: metrics for class_name, metrics in classification_report.items() if isinstance(metrics, dict)}\n",
    "precision_values = [metrics['precision'] for metrics in class_metrics.values()]\n",
    "recall_values = [metrics['recall'] for metrics in class_metrics.values()]\n",
    "f1_score_values = [metrics['f1-score'] for metrics in class_metrics.values()]\n",
    "\n",
    "fig, axes = plt.subplots(1, 3, figsize=(18, 6))\n",
    "axes[0].hist(precision_values, bins=30, color='skyblue', edgecolor='black')\n",
    "axes[0].set_title('Precision Distribution')\n",
    "axes[0].set_xlabel('Precision')\n",
    "axes[0].set_ylabel('Frequency')\n",
    "\n",
    "axes[1].hist(recall_values, bins=30, color='lightgreen', edgecolor='black')\n",
    "axes[1].set_title('Recall Distribution')\n",
    "axes[1].set_xlabel('Recall')\n",
    "axes[1].set_ylabel('Frequency')\n",
    "\n",
    "axes[2].hist(f1_score_values, bins=30, color='lightcoral', edgecolor='black')\n",
    "axes[2].set_title('F1-Score Distribution')\n",
    "axes[2].set_xlabel('F1-Score')\n",
    "axes[2].set_ylabel('Frequency')\n",
    "\n",
    "plt.tight_layout()\n",
    "plt.show()"
   ]
  },
  {
   "cell_type": "markdown",
   "id": "6d75663e-54e8-4894-9c93-0334534ecd32",
   "metadata": {},
   "source": [
    "**7.3** The performance of ResNet50 model over 100 epochs"
   ]
  },
  {
   "cell_type": "code",
   "execution_count": 5,
   "id": "74d097ef-1a3c-4359-9804-4acdfd2d9e1c",
   "metadata": {},
   "outputs": [],
   "source": [
    "with open(\"/pfs/lustrep3/scratch/project_465001578/people/Resnet/resnet_whole2_output/Resnet_acc.txt\", \"r\") as file:\n",
    "    content = file.readlines()\n",
    "\n",
    "metrics = {\n",
    "    \"Train_loss\": [],\n",
    "    \"Train_acc\": [],\n",
    "    \"Val_loss\": [],\n",
    "    \"Val_acc\": []\n",
    "}\n",
    "\n",
    "for line in content:\n",
    "    if \"Train Loss\" in line or \"Val Loss\" in line:\n",
    "        parts = line.strip().split(\", \")\n",
    "        for part in parts:\n",
    "            label, value = part.split(\": \")\n",
    "            if \"Train Loss\" in label:\n",
    "                metrics[\"Train_loss\"].append(float(value))\n",
    "            elif \"Train Acc\" in label:\n",
    "                metrics[\"Train_acc\"].append(float(value))\n",
    "            elif \"Val Loss\" in label:\n",
    "                metrics[\"Val_loss\"].append(float(value))\n",
    "            elif \"Val Acc\" in label:\n",
    "                metrics[\"Val_acc\"].append(float(value))"
   ]
  },
  {
   "cell_type": "code",
   "execution_count": 6,
   "id": "2b30461a-d92d-4d56-ac33-9a48a6695dc1",
   "metadata": {},
   "outputs": [
    {
     "data": {
      "image/png": "[encoded data removed]",
      "text/plain": [
       "<Figure size 640x480 with 2 Axes>"
      ]
     },
     "metadata": {},
     "output_type": "display_data"
    }
   ],
   "source": [
    "epochs = range(1, len(metrics[\"Train_loss\"]) + 1)\n",
    "\n",
    "#plt.figure(figsize=(10, 8))\n",
    "plt.subplot(2, 1, 1)\n",
    "plt.plot(epochs, metrics[\"Train_loss\"], label=\"Train Loss\", marker='o')\n",
    "plt.plot(epochs, metrics[\"Val_loss\"], label=\"Validation Loss\", marker='o')\n",
    "plt.xlabel(\"Epochs\")\n",
    "plt.ylabel(\"Loss\")\n",
    "plt.title(\"Training and Validation Loss over Epochs\")\n",
    "plt.legend()\n",
    "\n",
    "plt.subplot(2, 1, 2)\n",
    "plt.plot(epochs, metrics[\"Train_acc\"], label=\"Train Accuracy\", marker='o')\n",
    "plt.plot(epochs, metrics[\"Val_acc\"], label=\"Validation Accuracy\", marker='o')\n",
    "plt.xlabel(\"Epochs\")\n",
    "plt.ylabel(\"Accuracy\")\n",
    "plt.title(\"Training and Validation Accuracy over Epochs\")\n",
    "plt.legend()\n",
    "\n",
    "plt.tight_layout()\n",
    "plt.show()"
   ]
  },
  {
   "cell_type": "markdown",
   "id": "5da1c745-e35a-4cb5-aca3-f71ed667e8fa",
   "metadata": {},
   "source": [
    "**7.4** Test accuracy of ResNet50 model"
   ]
  },
  {
   "cell_type": "code",
   "execution_count": 7,
   "id": "5831eaf1-ee55-4624-8955-416fb600e88b",
   "metadata": {},
   "outputs": [],
   "source": [
    "file_path = \"/pfs/lustrep3/scratch/project_465001578/people/Resnet/resnet_whole2_output/final_test_metrics.json\"\n",
    "\n",
    "with open(file_path, \"r\") as file:\n",
    "    Testacc = json.load(file)\n",
    "classification_report = Testacc['classification_report']"
   ]
  },
  {
   "cell_type": "code",
   "execution_count": 8,
   "id": "8465ce6b-f42c-4ea5-9634-d41c0913e2dd",
   "metadata": {},
   "outputs": [
    {
     "data": {
      "text/plain": [
       "0.40469951427598444"
      ]
     },
     "execution_count": 8,
     "metadata": {},
     "output_type": "execute_result"
    }
   ],
   "source": [
    "Testacc['accuracy']"
   ]
  },
  {
   "cell_type": "code",
   "execution_count": 9,
   "id": "305a094d-b446-434e-915c-64e8659a916c",
   "metadata": {},
   "outputs": [
    {
     "name": "stdout",
     "output_type": "stream",
     "text": [
      "Top 10 Classes by Precision:\n",
      "1. Class: Man on Fire (2004), Precision: 0.9796437659033079\n",
      "2. Class: Changeling (2008), Precision: 0.9732142857142857\n",
      "3. Class: Babel (2006), Precision: 0.9661971830985916\n",
      "4. Class: Pi (1998), Precision: 0.9126506024096386\n",
      "5. Class: Dr. Strangelove or How I Learned to Stop Worrying and Love the Bomb (1964), Precision: 0.9033232628398792\n",
      "6. Class: The Grand Budapest Hotel (2014), Precision: 0.8994413407821229\n",
      "7. Class: The Last of the Mohicans DDC (1992), Precision: 0.8963730569948186\n",
      "8. Class: Buried (2010), Precision: 0.8940217391304348\n",
      "9. Class: The Lighthouse (2019), Precision: 0.8635097493036211\n",
      "10. Class: Locke (2013), Precision: 0.8588957055214724\n",
      "\n",
      "Top 10 Classes by Recall:\n",
      "1. Class: Changeling (2008), Recall: 0.9790419161676647\n",
      "2. Class: Man on Fire (2004), Recall: 0.9746835443037974\n",
      "3. Class: The Last of the Mohicans DDC (1992), Recall: 0.9326145552560647\n",
      "4. Class: Babel (2006), Recall: 0.9320652173913043\n",
      "5. Class: The Unforgivable (2021), Recall: 0.9194029850746268\n",
      "6. Class: The Grand Budapest Hotel (2014), Recall: 0.9147727272727273\n",
      "7. Class: Pi (1998), Recall: 0.8859649122807017\n",
      "8. Class: Buried (2010), Recall: 0.8844086021505376\n",
      "9. Class: The Hateful Eight (2015), Recall: 0.8629737609329446\n",
      "10. Class: Carnage (2011), Recall: 0.8583333333333333\n",
      "\n",
      "Top 10 Classes by F1-score:\n",
      "1. Class: Man on Fire (2004), F1-score: 0.9771573604060914\n",
      "2. Class: Changeling (2008), F1-score: 0.9761194029850746\n",
      "3. Class: Babel (2006), F1-score: 0.9488243430152143\n",
      "4. Class: The Last of the Mohicans DDC (1992), F1-score: 0.9141347424042272\n",
      "5. Class: The Grand Budapest Hotel (2014), F1-score: 0.9070422535211268\n",
      "6. Class: Pi (1998), F1-score: 0.8991097922848664\n",
      "7. Class: Buried (2010), F1-score: 0.8891891891891892\n",
      "8. Class: The Unforgivable (2021), F1-score: 0.8712871287128713\n",
      "9. Class: Dr. Strangelove or How I Learned to Stop Worrying and Love the Bomb (1964), F1-score: 0.8555078683834049\n",
      "10. Class: Dogville (2003), F1-score: 0.8385481852315394\n"
     ]
    }
   ],
   "source": [
    "def get_metric(class_name, metric):\n",
    "    if isinstance(classification_report[class_name], dict):\n",
    "        return classification_report[class_name].get(metric, float('-inf'))  \n",
    "    return float('-inf')  \n",
    "\n",
    "top_10_precision = sorted(classification_report.items(), key=lambda x: get_metric(x[0], 'precision'), reverse=True)[:10]\n",
    "top_10_recall = sorted(classification_report.items(), key=lambda x: get_metric(x[0], 'recall'), reverse=True)[:10]\n",
    "top_10_f1_score = sorted(classification_report.items(), key=lambda x: get_metric(x[0], 'f1-score'), reverse=True)[:10]\n",
    "\n",
    "print(\"Top 10 Classes by Precision:\")\n",
    "for i, (class_name, metrics) in enumerate(top_10_precision, 1):\n",
    "    print(f\"{i}. Class: {class_name}, Precision: {metrics['precision']}\")\n",
    "print(\"\\nTop 10 Classes by Recall:\")\n",
    "for i, (class_name, metrics) in enumerate(top_10_recall, 1):\n",
    "    print(f\"{i}. Class: {class_name}, Recall: {metrics['recall']}\")\n",
    "print(\"\\nTop 10 Classes by F1-score:\")\n",
    "for i, (class_name, metrics) in enumerate(top_10_f1_score, 1):\n",
    "    print(f\"{i}. Class: {class_name}, F1-score: {metrics['f1-score']}\")"
   ]
  },
  {
   "cell_type": "code",
   "execution_count": 10,
   "id": "9a0724f8-ae4a-4d7e-b105-2678aea2a5f7",
   "metadata": {},
   "outputs": [
    {
     "name": "stdout",
     "output_type": "stream",
     "text": [
      "Bottom 10 Classes by Precision:\n",
      "1. Class: The Fugitive (1993), Precision: 0.09125475285171103\n",
      "2. Class: The Way Way Back (2013), Precision: 0.09972677595628415\n",
      "3. Class: X Men Days of Future Past (2014), Precision: 0.11387163561076605\n",
      "4. Class: X Men First Class (2011), Precision: 0.11823647294589178\n",
      "5. Class: Elvis (2022), Precision: 0.11965811965811966\n",
      "6. Class: Captain America Civil War (2016), Precision: 0.1276595744680851\n",
      "7. Class: The Incredibles (2004), Precision: 0.13414634146341464\n",
      "8. Class: Star Trek (2009), Precision: 0.14052287581699346\n",
      "9. Class: X-Men 2 (2003), Precision: 0.14114832535885166\n",
      "10. Class: Patriots Day (2016), Precision: 0.1417004048582996\n",
      "\n",
      "Bottom 10 Classes by Recall:\n",
      "1. Class: Elvis (2022), Recall: 0.11444141689373297\n",
      "2. Class: Face Off (1997), Recall: 0.12465373961218837\n",
      "3. Class: Star Trek (2009), Recall: 0.12609970674486803\n",
      "4. Class: The Fugitive (1993), Recall: 0.14201183431952663\n",
      "5. Class: Donnie Brasco (1997), Recall: 0.14361702127659576\n",
      "6. Class: Black Panther (2018), Recall: 0.14363143631436315\n",
      "7. Class: Star Wars Episode III - Revenge Of The Sith (2005), Recall: 0.14759036144578314\n",
      "8. Class: Coach Carter (2005), Recall: 0.14893617021276595\n",
      "9. Class: Munich (2005), Recall: 0.15151515151515152\n",
      "10. Class: X Men Days of Future Past (2014), Recall: 0.15151515151515152\n",
      "\n",
      "Bottom 10 Classes by F1-score:\n",
      "1. Class: The Fugitive (1993), F1-score: 0.1111111111111111\n",
      "2. Class: Elvis (2022), F1-score: 0.116991643454039\n",
      "3. Class: X Men Days of Future Past (2014), F1-score: 0.13002364066193853\n",
      "4. Class: Star Trek (2009), F1-score: 0.13292117465224113\n",
      "5. Class: Face Off (1997), F1-score: 0.13353115727002968\n",
      "6. Class: X Men First Class (2011), F1-score: 0.13866039952996476\n",
      "7. Class: Donnie Brasco (1997), F1-score: 0.14634146341463414\n",
      "8. Class: Captain America Civil War (2016), F1-score: 0.14949037372593432\n",
      "9. Class: Coach Carter (2005), F1-score: 0.15030674846625766\n",
      "10. Class: The X Files (1998), F1-score: 0.15304798962386512\n"
     ]
    }
   ],
   "source": [
    "def get_metric(class_name, metric):\n",
    "    if isinstance(classification_report[class_name], dict):\n",
    "        return classification_report[class_name].get(metric, float('inf')) \n",
    "    return float('inf') \n",
    "\n",
    "top_10_precision = sorted(classification_report.items(), key=lambda x: get_metric(x[0], 'precision'))[:10]\n",
    "top_10_recall = sorted(classification_report.items(), key=lambda x: get_metric(x[0], 'recall'))[:10]\n",
    "top_10_f1_score = sorted(classification_report.items(), key=lambda x: get_metric(x[0], 'f1-score'))[:10]\n",
    "\n",
    "print(\"Bottom 10 Classes by Precision:\")\n",
    "for i, (class_name, metrics) in enumerate(top_10_precision, 1):\n",
    "    print(f\"{i}. Class: {class_name}, Precision: {metrics['precision']}\")\n",
    "print(\"\\nBottom 10 Classes by Recall:\")\n",
    "for i, (class_name, metrics) in enumerate(top_10_recall, 1):\n",
    "    print(f\"{i}. Class: {class_name}, Recall: {metrics['recall']}\")\n",
    "print(\"\\nBottom 10 Classes by F1-score:\")\n",
    "for i, (class_name, metrics) in enumerate(top_10_f1_score, 1):\n",
    "    print(f\"{i}. Class: {class_name}, F1-score: {metrics['f1-score']}\")"
   ]
  },
  {
   "cell_type": "code",
   "execution_count": 11,
   "id": "99a255dd-6709-43f8-a3d8-bcbbed44a351",
   "metadata": {},
   "outputs": [
    {
     "data": {
      "image/png": "[encoded data removed]",
      "text/plain": [
       "<Figure size 1800x600 with 3 Axes>"
      ]
     },
     "metadata": {},
     "output_type": "display_data"
    }
   ],
   "source": [
    "class_metrics = {class_name: metrics for class_name, metrics in classification_report.items() if isinstance(metrics, dict)}\n",
    "precision_values = [metrics['precision'] for metrics in class_metrics.values()]\n",
    "recall_values = [metrics['recall'] for metrics in class_metrics.values()]\n",
    "f1_score_values = [metrics['f1-score'] for metrics in class_metrics.values()]\n",
    "\n",
    "fig, axes = plt.subplots(1, 3, figsize=(18, 6))\n",
    "axes[0].hist(precision_values, bins=30, color='skyblue', edgecolor='black')\n",
    "axes[0].set_title('Precision Distribution')\n",
    "axes[0].set_xlabel('Precision')\n",
    "axes[0].set_ylabel('Frequency')\n",
    "\n",
    "axes[1].hist(recall_values, bins=30, color='lightgreen', edgecolor='black')\n",
    "axes[1].set_title('Recall Distribution')\n",
    "axes[1].set_xlabel('Recall')\n",
    "axes[1].set_ylabel('Frequency')\n",
    "\n",
    "axes[2].hist(f1_score_values, bins=30, color='lightcoral', edgecolor='black')\n",
    "axes[2].set_title('F1-Score Distribution')\n",
    "axes[2].set_xlabel('F1-Score')\n",
    "axes[2].set_ylabel('Frequency')\n",
    "\n",
    "plt.tight_layout()\n",
    "plt.show()"
   ]
  },
  {
   "cell_type": "code",
   "execution_count": null,
   "id": "bb4df2a9-78c3-49cc-b4af-bab4b4491d94",
   "metadata": {},
   "outputs": [],
   "source": []
  }
 ],
 "metadata": {
  "kernelspec": {
   "display_name": "Python 3",
   "language": "python",
   "name": "python3"
  },
  "language_info": {
   "codemirror_mode": {
    "name": "ipython",
    "version": 3
   },
   "file_extension": ".py",
   "mimetype": "text/x-python",
   "name": "python",
   "nbconvert_exporter": "python",
   "pygments_lexer": "ipython3",
   "version": "3.10.12"
  }
 },
 "nbformat": 4,
 "nbformat_minor": 5
}
