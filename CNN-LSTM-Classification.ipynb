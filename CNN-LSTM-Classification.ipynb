{
 "cells": [
  {
   "cell_type": "code",
   "execution_count": 1,
   "id": "585757c2-64e4-425b-acf0-0405f96e8edf",
   "metadata": {},
   "outputs": [],
   "source": [
    "import pandas as pd\n",
    "import torch\n",
    "from sklearn.model_selection import train_test_split\n",
    "from sklearn.preprocessing import StandardScaler\n",
    "from sklearn.metrics import accuracy_score\n",
    "import torch.nn as nn\n",
    "import torch.optim as optim"
   ]
  },
  {
   "cell_type": "code",
   "execution_count": 2,
   "id": "9fe06d24-c595-4618-9774-9c6531306d7e",
   "metadata": {},
   "outputs": [],
   "source": [
    "import os\n",
    "import pandas as pd\n",
    "\n",
    "file_path = \"/home/dl09e24/DATA/TMDB_movie_dataset_v11.csv\"\n",
    "if not os.path.exists(file_path):\n",
    "    raise FileNotFoundError(f\"File not found: {file_path}\")\n",
    "\n",
    "# Load the dataset\n",
    "df = pd.read_csv(file_path)"
   ]
  },
  {
   "cell_type": "code",
   "execution_count": 3,
   "id": "fdc02cc6-e189-46a0-801b-99eaedc98f24",
   "metadata": {},
   "outputs": [
    {
     "name": "stdout",
     "output_type": "stream",
     "text": [
      "       id            title  vote_average  vote_count    status release_date  \\\n",
      "0   27205        Inception         8.364       34495  Released   2010-07-15   \n",
      "1  157336     Interstellar         8.417       32571  Released   2014-11-05   \n",
      "2     155  The Dark Knight         8.512       30619  Released   2008-07-16   \n",
      "3   19995           Avatar         7.573       29815  Released   2009-12-15   \n",
      "4   24428     The Avengers         7.710       29166  Released   2012-04-25   \n",
      "\n",
      "      revenue  runtime  adult                     backdrop_path  ...  \\\n",
      "0   825532764      148  False  /8ZTVqvKDQ8emSGUEMjsS4yHAwrp.jpg  ...   \n",
      "1   701729206      169  False  /pbrkL804c8yAv3zBZR4QPEafpAR.jpg  ...   \n",
      "2  1004558444      152  False  /nMKdUUepR0i5zn0y1T4CsSB5chy.jpg  ...   \n",
      "3  2923706026      162  False  /vL5LR6WdxWPjLPFRLe133jXWsh5.jpg  ...   \n",
      "4  1518815515      143  False  /9BBTo63ANSmhC4e6r62OJFuK2GL.jpg  ...   \n",
      "\n",
      "    original_title                                           overview  \\\n",
      "0        Inception  Cobb, a skilled thief who commits corporate es...   \n",
      "1     Interstellar  The adventures of a group of explorers who mak...   \n",
      "2  The Dark Knight  Batman raises the stakes in his war on crime. ...   \n",
      "3           Avatar  In the 22nd century, a paraplegic Marine is di...   \n",
      "4     The Avengers  When an unexpected enemy emerges and threatens...   \n",
      "\n",
      "  popularity                       poster_path  \\\n",
      "0     83.952  /oYuLEt3zVCKq57qu2F8dT7NIa6f.jpg   \n",
      "1    140.241  /gEU2QniE6E77NI6lCU6MxlNBvIx.jpg   \n",
      "2    130.643  /qJ2tW6WMUDux911r6m7haRef0WH.jpg   \n",
      "3     79.932  /kyeqWdyUXW608qlYkRqosgbbJyK.jpg   \n",
      "4     98.082   /RYMX2wcKCBAr24UyPD7xwmjaTn.jpg   \n",
      "\n",
      "                                             tagline  \\\n",
      "0               Your mind is the scene of the crime.   \n",
      "1  Mankind was born on Earth. It was never meant ...   \n",
      "2                  Welcome to a world without rules.   \n",
      "3                        Enter the world of Pandora.   \n",
      "4                            Some assembly required.   \n",
      "\n",
      "                                        genres  \\\n",
      "0           Action, Science Fiction, Adventure   \n",
      "1            Adventure, Drama, Science Fiction   \n",
      "2               Drama, Action, Crime, Thriller   \n",
      "3  Action, Adventure, Fantasy, Science Fiction   \n",
      "4           Science Fiction, Action, Adventure   \n",
      "\n",
      "                                production_companies  \\\n",
      "0  Legendary Pictures, Syncopy, Warner Bros. Pict...   \n",
      "1  Legendary Pictures, Syncopy, Lynda Obst Produc...   \n",
      "2  DC Comics, Legendary Pictures, Syncopy, Isobel...   \n",
      "3  Dune Entertainment, Lightstorm Entertainment, ...   \n",
      "4                                     Marvel Studios   \n",
      "\n",
      "                       production_countries  \\\n",
      "0  United Kingdom, United States of America   \n",
      "1  United Kingdom, United States of America   \n",
      "2  United Kingdom, United States of America   \n",
      "3  United States of America, United Kingdom   \n",
      "4                  United States of America   \n",
      "\n",
      "                     spoken_languages  \\\n",
      "0  English, French, Japanese, Swahili   \n",
      "1                             English   \n",
      "2                   English, Mandarin   \n",
      "3                    English, Spanish   \n",
      "4             English, Hindi, Russian   \n",
      "\n",
      "                                            keywords  \n",
      "0  rescue, mission, dream, airplane, paris, franc...  \n",
      "1  rescue, future, spacecraft, race against time,...  \n",
      "2  joker, sadism, chaos, secret identity, crime f...  \n",
      "3  future, society, culture clash, space travel, ...  \n",
      "4  new york city, superhero, shield, based on com...  \n",
      "\n",
      "[5 rows x 24 columns]\n"
     ]
    }
   ],
   "source": [
    "print(df.head())"
   ]
  },
  {
   "cell_type": "code",
   "execution_count": 4,
   "id": "719124db-2b3a-47ec-a874-d159d87467ca",
   "metadata": {},
   "outputs": [],
   "source": [
    "features = ['title', 'vote_count', 'runtime', 'revenue', 'popularity']\n",
    "target = 'vote_average'"
   ]
  },
  {
   "cell_type": "code",
   "execution_count": 5,
   "id": "8d2de86c-a354-4afa-8907-c415ab01fc49",
   "metadata": {},
   "outputs": [],
   "source": [
    "df = df[features + [target]].dropna()"
   ]
  },
  {
   "cell_type": "code",
   "execution_count": 6,
   "id": "67d82b64-fa9e-43ee-859e-749b2bd2a274",
   "metadata": {},
   "outputs": [],
   "source": [
    "bins = [0, 5.5, 7.0, 10.0]\n",
    "labels = [0, 1, 2]  # 0: BAD, 1: AVG, 2: GOOD\n",
    "df['vote_category'] = pd.cut(df[target], bins=bins, labels=labels)"
   ]
  },
  {
   "cell_type": "code",
   "execution_count": 7,
   "id": "9548f0d5-a4be-4085-b524-366a824d8e73",
   "metadata": {},
   "outputs": [
    {
     "name": "stdout",
     "output_type": "stream",
     "text": [
      "784152\n",
      "[2, 1, 0, NaN]\n",
      "Categories (3, int64): [0 < 1 < 2]\n"
     ]
    }
   ],
   "source": [
    "print(df['vote_category'].isnull().sum())  # Count the number of NaN values\n",
    "print(df['vote_category'].unique()) "
   ]
  },
  {
   "cell_type": "code",
   "execution_count": 8,
   "id": "e7dc295e-ce9b-43d1-a6e7-e85d3c27c05b",
   "metadata": {},
   "outputs": [],
   "source": [
    "df['vote_category'].fillna(0, inplace=True)  # Replace NaN with 0 (or another default value)"
   ]
  },
  {
   "cell_type": "code",
   "execution_count": 9,
   "id": "d0883e11-0a60-4e8a-a096-f15d8d9c003a",
   "metadata": {},
   "outputs": [
    {
     "name": "stdout",
     "output_type": "stream",
     "text": [
      "0\n",
      "[2, 1, 0]\n",
      "Categories (3, int64): [0 < 1 < 2]\n"
     ]
    }
   ],
   "source": [
    "print(df['vote_category'].isnull().sum())  # Count the number of NaN values\n",
    "print(df['vote_category'].unique())"
   ]
  },
  {
   "cell_type": "code",
   "execution_count": 10,
   "id": "92554470-55e6-4c99-a6a3-64dd56046049",
   "metadata": {},
   "outputs": [],
   "source": [
    "df['vote_category'] = df['vote_category'].astype(int)"
   ]
  },
  {
   "cell_type": "code",
   "execution_count": 11,
   "id": "143e6f87-ef3f-4640-b464-99be0976b70a",
   "metadata": {},
   "outputs": [],
   "source": [
    "X = df[features].values\n",
    "y = df['vote_category'].values"
   ]
  },
  {
   "cell_type": "code",
   "execution_count": 12,
   "id": "fedf79fe-03f9-43eb-9c27-522ec72ee499",
   "metadata": {},
   "outputs": [
    {
     "name": "stdout",
     "output_type": "stream",
     "text": [
      "title          object\n",
      "vote_count      int64\n",
      "runtime         int64\n",
      "revenue         int64\n",
      "popularity    float64\n",
      "dtype: object\n"
     ]
    }
   ],
   "source": [
    "print(df[features].dtypes)  # Check the data types of the features"
   ]
  },
  {
   "cell_type": "code",
   "execution_count": 13,
   "id": "c6e58bd5-65c0-4d82-adf9-3973fe3ef275",
   "metadata": {},
   "outputs": [],
   "source": [
    "from sklearn.preprocessing import LabelEncoder\n",
    "\n",
    "# Encode titles as integers\n",
    "label_encoder = LabelEncoder()\n",
    "df['title_encoded'] = label_encoder.fit_transform(df['title'])\n",
    "\n",
    "# Update the feature list\n",
    "features = ['title_encoded', 'vote_count', 'runtime', 'revenue', 'popularity']"
   ]
  },
  {
   "cell_type": "code",
   "execution_count": 14,
   "id": "92e62e7f-8dce-406b-b604-b9fffde7b35e",
   "metadata": {},
   "outputs": [
    {
     "name": "stdout",
     "output_type": "stream",
     "text": [
      "int64\n",
      "0    369707\n",
      "1    374608\n",
      "2    753544\n",
      "3     82553\n",
      "4    739191\n",
      "Name: title_encoded, dtype: int64\n"
     ]
    }
   ],
   "source": [
    "print(df['title_encoded'].dtype)  # Should be int64 or int32\n",
    "print(df['title_encoded'].head())  # Inspect the first few rows"
   ]
  },
  {
   "cell_type": "code",
   "execution_count": 15,
   "id": "818fdaeb-1169-438e-8965-8ce9b2f7cc2c",
   "metadata": {},
   "outputs": [
    {
     "name": "stdout",
     "output_type": "stream",
     "text": [
      "title_encoded    0\n",
      "vote_count       0\n",
      "runtime          0\n",
      "revenue          0\n",
      "popularity       0\n",
      "dtype: int64\n"
     ]
    }
   ],
   "source": [
    "print(df[features].isnull().sum())  # Check for null values\n",
    "df = df.dropna(subset=features)  # Drop rows with missing values"
   ]
  },
  {
   "cell_type": "code",
   "execution_count": 16,
   "id": "36fce2b3-c3e1-405f-a6b5-aba62e301d8a",
   "metadata": {},
   "outputs": [
    {
     "name": "stdout",
     "output_type": "stream",
     "text": [
      "title_encoded: int64\n",
      "vote_count: int64\n",
      "runtime: int64\n",
      "revenue: int64\n",
      "popularity: float64\n"
     ]
    }
   ],
   "source": [
    "for feature in features:\n",
    "    print(f\"{feature}: {df[feature].dtype}\")  # Confirm numeric dtype"
   ]
  },
  {
   "cell_type": "code",
   "execution_count": 17,
   "id": "fe486228-5c7b-4a46-92c8-42f7a55ca292",
   "metadata": {},
   "outputs": [],
   "source": [
    "# Data scaling\n",
    "scaler = StandardScaler()\n",
    "df[features] = scaler.fit_transform(df[features])"
   ]
  },
  {
   "cell_type": "code",
   "execution_count": 19,
   "id": "b77b2ca5-90ff-4550-a3e0-e3c8d7b968d3",
   "metadata": {},
   "outputs": [],
   "source": [
    "# 50-50 Train-Test split\n",
    "train_data, test_data = train_test_split(df, test_size=0.5, random_state=42)\n",
    "\n",
    "# Extract 5% from Train and Test for Validation\n",
    "train_data, train_val = train_test_split(train_data, test_size=0.05, random_state=42)\n",
    "test_data, test_val = train_test_split(test_data, test_size=0.05, random_state=42)\n",
    "\n",
    "val_data = pd.concat([train_val, test_val])"
   ]
  },
  {
   "cell_type": "code",
   "execution_count": 21,
   "id": "163b4a2d-8d9c-4172-b40b-1a2945ee389c",
   "metadata": {},
   "outputs": [
    {
     "name": "stdout",
     "output_type": "stream",
     "text": [
      "Train data size: 538799\n",
      "Validation data size: 56716\n",
      "Test data size: 538799\n"
     ]
    }
   ],
   "source": [
    "print(f\"Train data size: {len(train_data)}\")\n",
    "print(f\"Validation data size: {len(val_data)}\")\n",
    "print(f\"Test data size: {len(test_data)}\")"
   ]
  },
  {
   "cell_type": "code",
   "execution_count": 22,
   "id": "f03e0ddb-7fb3-4f63-beec-43486f819a95",
   "metadata": {},
   "outputs": [],
   "source": [
    "# Extract features and target for train, validation, and test sets\n",
    "X_train = train_data[features].values\n",
    "y_train = train_data['vote_category'].values\n",
    "\n",
    "X_val = val_data[features].values\n",
    "y_val = val_data['vote_category'].values\n",
    "\n",
    "X_test = test_data[features].values\n",
    "y_test = test_data['vote_category'].values\n",
    "\n",
    "# Convert to PyTorch tensors\n",
    "X_train = torch.tensor(X_train, dtype=torch.float32)\n",
    "y_train = torch.tensor(y_train, dtype=torch.long)\n",
    "\n",
    "X_val = torch.tensor(X_val, dtype=torch.float32)\n",
    "y_val = torch.tensor(y_val, dtype=torch.long)\n",
    "\n",
    "X_test = torch.tensor(X_test, dtype=torch.float32)\n",
    "y_test = torch.tensor(y_test, dtype=torch.long)"
   ]
  },
  {
   "cell_type": "code",
   "execution_count": 23,
   "id": "da852aad-85cd-4ef3-90a8-447a4cbce8a0",
   "metadata": {},
   "outputs": [],
   "source": [
    "train_data = torch.utils.data.TensorDataset(X_train, y_train)\n",
    "val_data = torch.utils.data.TensorDataset(X_val, y_val)\n",
    "test_data = torch.utils.data.TensorDataset(X_test, y_test)"
   ]
  },
  {
   "cell_type": "code",
   "execution_count": 24,
   "id": "3e90128d-de41-4743-8816-c2e416ac099f",
   "metadata": {},
   "outputs": [],
   "source": [
    "train_loader = torch.utils.data.DataLoader(train_data, batch_size=64, shuffle=True)\n",
    "val_loader = torch.utils.data.DataLoader(val_data, batch_size=64, shuffle=False)\n",
    "test_loader = torch.utils.data.DataLoader(test_data, batch_size=64, shuffle=False)"
   ]
  },
  {
   "cell_type": "code",
   "execution_count": 25,
   "id": "e322118c-8748-473e-91a0-c545400c1fb2",
   "metadata": {},
   "outputs": [],
   "source": [
    "class CNN_LSTM_Model(nn.Module):\n",
    "    def __init__(self, input_size, num_classes):\n",
    "        super(CNN_LSTM_Model, self).__init__()\n",
    "        self.conv1 = nn.Conv1d(in_channels=1, out_channels=32, kernel_size=3, stride=1, padding=1)\n",
    "        self.pool = nn.MaxPool1d(kernel_size=2, stride=2)\n",
    "        self.conv2 = nn.Conv1d(in_channels=32, out_channels=64, kernel_size=3, stride=1, padding=1)\n",
    "        self.conv3 = nn.Conv1d(in_channels=64, out_channels=128, kernel_size=3, stride=1, padding=1)\n",
    "        self.dropout_cnn = nn.Dropout(0.5)\n",
    "        self.lstm = nn.LSTM(input_size=128, hidden_size=64, num_layers=1, batch_first=True)\n",
    "        self.fc = nn.Linear(64, num_classes)\n",
    "\n",
    "    def forward(self, x):\n",
    "        x = x.unsqueeze(1)  \n",
    "        x = F.relu(self.conv1(x))\n",
    "        x = self.pool(x)\n",
    "        x = F.relu(self.conv2(x))\n",
    "        x = self.pool(x)\n",
    "        x = F.relu(self.conv3(x))\n",
    "        if x.size(-1) > 1:  \n",
    "            x = self.pool(x)\n",
    "        x = self.dropout_cnn(x)\n",
    "        x = x.transpose(1, 2)  \n",
    "        x, _ = self.lstm(x)\n",
    "        x = x[:, -1, :]  \n",
    "        x = self.fc(x)\n",
    "        return x"
   ]
  },
  {
   "cell_type": "code",
   "execution_count": 26,
   "id": "2c2e4b9e-d3dc-47d7-ae15-dc1e9a672125",
   "metadata": {},
   "outputs": [],
   "source": [
    "input_size = 128  \n",
    "num_classes = 3  # GOOD, AVG, BAD\n",
    "device = torch.device(\"cuda\" if torch.cuda.is_available() else \"cpu\")\n",
    "\n",
    "model = CNN_LSTM_Model(input_size=input_size, num_classes=num_classes).to(device)\n",
    "criterion = nn.CrossEntropyLoss()\n",
    "optimizer = optim.Adam(model.parameters(), lr=1e-4, weight_decay=1e-5)"
   ]
  },
  {
   "cell_type": "code",
   "execution_count": 29,
   "id": "bbd1ab06-ba29-428b-ab51-d2ecdbfdb2d6",
   "metadata": {},
   "outputs": [
    {
     "name": "stdout",
     "output_type": "stream",
     "text": [
      "Epoch 1: Train Loss = 4477.7452, Train Accuracy = 81.79%, Validation Loss = 473.2281, Validation Accuracy = 81.60%\n",
      "Epoch 2: Train Loss = 4448.1716, Train Accuracy = 81.87%, Validation Loss = 476.1851, Validation Accuracy = 81.81%\n",
      "Epoch 3: Train Loss = 4413.3896, Train Accuracy = 82.05%, Validation Loss = 465.6739, Validation Accuracy = 81.88%\n",
      "Epoch 4: Train Loss = 4376.7106, Train Accuracy = 82.19%, Validation Loss = 462.1571, Validation Accuracy = 82.09%\n",
      "Epoch 5: Train Loss = 4336.0535, Train Accuracy = 82.31%, Validation Loss = 460.4127, Validation Accuracy = 82.10%\n",
      "Epoch 6: Train Loss = 4285.9722, Train Accuracy = 82.38%, Validation Loss = 450.9123, Validation Accuracy = 82.16%\n",
      "Epoch 7: Train Loss = 4225.2378, Train Accuracy = 82.51%, Validation Loss = 444.8860, Validation Accuracy = 82.28%\n",
      "Epoch 8: Train Loss = 4165.9305, Train Accuracy = 82.52%, Validation Loss = 438.3180, Validation Accuracy = 82.31%\n",
      "Epoch 9: Train Loss = 4111.9880, Train Accuracy = 82.58%, Validation Loss = 428.1626, Validation Accuracy = 82.33%\n",
      "Epoch 10: Train Loss = 4050.0482, Train Accuracy = 82.61%, Validation Loss = 426.3572, Validation Accuracy = 82.27%\n",
      "Epoch 11: Train Loss = 3996.8135, Train Accuracy = 82.62%, Validation Loss = 415.8709, Validation Accuracy = 82.36%\n",
      "Epoch 12: Train Loss = 3945.4518, Train Accuracy = 82.62%, Validation Loss = 407.4608, Validation Accuracy = 82.23%\n",
      "Epoch 13: Train Loss = 3878.2327, Train Accuracy = 82.61%, Validation Loss = 403.5189, Validation Accuracy = 82.26%\n",
      "Epoch 14: Train Loss = 3833.2616, Train Accuracy = 82.63%, Validation Loss = 416.0722, Validation Accuracy = 82.36%\n",
      "Epoch 15: Train Loss = 3764.6956, Train Accuracy = 82.64%, Validation Loss = 390.3325, Validation Accuracy = 82.33%\n",
      "Epoch 16: Train Loss = 3722.5324, Train Accuracy = 82.64%, Validation Loss = 390.3674, Validation Accuracy = 82.35%\n",
      "Epoch 17: Train Loss = 3668.1170, Train Accuracy = 82.62%, Validation Loss = 386.5485, Validation Accuracy = 82.32%\n",
      "Epoch 18: Train Loss = 3609.0363, Train Accuracy = 82.62%, Validation Loss = 376.6242, Validation Accuracy = 82.42%\n",
      "Epoch 19: Train Loss = 3553.5140, Train Accuracy = 82.61%, Validation Loss = 353.1381, Validation Accuracy = 82.39%\n",
      "Epoch 20: Train Loss = 3508.0082, Train Accuracy = 82.62%, Validation Loss = 351.3058, Validation Accuracy = 82.42%\n",
      "Epoch 21: Train Loss = 3457.1927, Train Accuracy = 82.65%, Validation Loss = 341.3203, Validation Accuracy = 82.39%\n",
      "Epoch 22: Train Loss = 3406.2685, Train Accuracy = 82.68%, Validation Loss = 377.2111, Validation Accuracy = 82.53%\n",
      "Epoch 23: Train Loss = 3396.8140, Train Accuracy = 82.70%, Validation Loss = 353.6315, Validation Accuracy = 82.59%\n",
      "Epoch 24: Train Loss = 3359.5167, Train Accuracy = 82.67%, Validation Loss = 335.3267, Validation Accuracy = 82.38%\n",
      "Epoch 25: Train Loss = 3313.2956, Train Accuracy = 82.66%, Validation Loss = 331.2371, Validation Accuracy = 82.45%\n",
      "Epoch 26: Train Loss = 3290.0165, Train Accuracy = 82.70%, Validation Loss = 340.1269, Validation Accuracy = 82.51%\n",
      "Epoch 27: Train Loss = 3289.9170, Train Accuracy = 82.74%, Validation Loss = 329.3174, Validation Accuracy = 82.55%\n",
      "Epoch 28: Train Loss = 3251.5334, Train Accuracy = 82.72%, Validation Loss = 331.1173, Validation Accuracy = 82.65%\n",
      "Epoch 29: Train Loss = 3261.3656, Train Accuracy = 82.79%, Validation Loss = 318.8881, Validation Accuracy = 82.56%\n",
      "Epoch 30: Train Loss = 3213.4829, Train Accuracy = 82.78%, Validation Loss = 333.4585, Validation Accuracy = 82.74%\n",
      "Epoch 31: Train Loss = 3221.0096, Train Accuracy = 82.75%, Validation Loss = 371.1754, Validation Accuracy = 82.42%\n",
      "Epoch 32: Train Loss = 3220.3937, Train Accuracy = 82.76%, Validation Loss = 312.7678, Validation Accuracy = 82.55%\n",
      "Epoch 33: Train Loss = 3177.0890, Train Accuracy = 82.79%, Validation Loss = 326.4803, Validation Accuracy = 82.51%\n",
      "Epoch 34: Train Loss = 3192.0458, Train Accuracy = 82.80%, Validation Loss = 317.7705, Validation Accuracy = 82.59%\n",
      "Epoch 35: Train Loss = 3191.2625, Train Accuracy = 82.77%, Validation Loss = 332.3376, Validation Accuracy = 82.61%\n",
      "Epoch 36: Train Loss = 3183.5388, Train Accuracy = 82.80%, Validation Loss = 310.0349, Validation Accuracy = 82.60%\n",
      "Epoch 37: Train Loss = 3148.1511, Train Accuracy = 82.81%, Validation Loss = 371.9577, Validation Accuracy = 82.62%\n",
      "Epoch 38: Train Loss = 3150.9615, Train Accuracy = 82.85%, Validation Loss = 320.2927, Validation Accuracy = 82.87%\n",
      "Epoch 39: Train Loss = 3143.2138, Train Accuracy = 82.82%, Validation Loss = 329.3900, Validation Accuracy = 82.62%\n",
      "Epoch 40: Train Loss = 3132.1290, Train Accuracy = 82.85%, Validation Loss = 306.0504, Validation Accuracy = 82.84%\n",
      "Epoch 41: Train Loss = 3110.4136, Train Accuracy = 82.87%, Validation Loss = 324.6429, Validation Accuracy = 82.65%\n",
      "Epoch 42: Train Loss = 3127.3845, Train Accuracy = 82.84%, Validation Loss = 323.9733, Validation Accuracy = 82.69%\n",
      "Epoch 43: Train Loss = 3131.9591, Train Accuracy = 82.86%, Validation Loss = 343.6542, Validation Accuracy = 82.58%\n",
      "Epoch 44: Train Loss = 3110.6468, Train Accuracy = 82.87%, Validation Loss = 309.2317, Validation Accuracy = 82.72%\n",
      "Epoch 45: Train Loss = 3108.7209, Train Accuracy = 82.91%, Validation Loss = 334.6901, Validation Accuracy = 82.57%\n",
      "Epoch 46: Train Loss = 3107.7233, Train Accuracy = 82.86%, Validation Loss = 327.2730, Validation Accuracy = 82.61%\n",
      "Epoch 47: Train Loss = 3089.2139, Train Accuracy = 82.87%, Validation Loss = 304.4952, Validation Accuracy = 82.70%\n",
      "Epoch 48: Train Loss = 3095.5515, Train Accuracy = 82.90%, Validation Loss = 391.2099, Validation Accuracy = 82.49%\n",
      "Epoch 49: Train Loss = 3089.7723, Train Accuracy = 82.94%, Validation Loss = 323.2772, Validation Accuracy = 82.62%\n",
      "Epoch 50: Train Loss = 3092.8631, Train Accuracy = 82.93%, Validation Loss = 320.8028, Validation Accuracy = 82.55%\n",
      "Epoch 51: Train Loss = 3084.7275, Train Accuracy = 82.96%, Validation Loss = 313.3291, Validation Accuracy = 82.69%\n",
      "Epoch 52: Train Loss = 3068.9590, Train Accuracy = 82.91%, Validation Loss = 329.2498, Validation Accuracy = 82.61%\n",
      "Epoch 53: Train Loss = 3069.8239, Train Accuracy = 82.93%, Validation Loss = 301.6099, Validation Accuracy = 82.86%\n",
      "Epoch 54: Train Loss = 3066.7583, Train Accuracy = 82.93%, Validation Loss = 306.7523, Validation Accuracy = 82.78%\n",
      "Epoch 55: Train Loss = 3042.5786, Train Accuracy = 82.95%, Validation Loss = 303.6931, Validation Accuracy = 82.66%\n",
      "Epoch 56: Train Loss = 3066.0812, Train Accuracy = 82.94%, Validation Loss = 332.2017, Validation Accuracy = 81.71%\n",
      "Epoch 57: Train Loss = 3031.9111, Train Accuracy = 82.98%, Validation Loss = 300.1002, Validation Accuracy = 82.75%\n",
      "Epoch 58: Train Loss = 3016.7776, Train Accuracy = 83.03%, Validation Loss = 334.7901, Validation Accuracy = 82.56%\n",
      "Epoch 59: Train Loss = 3029.3331, Train Accuracy = 82.99%, Validation Loss = 313.3794, Validation Accuracy = 82.57%\n",
      "Epoch 60: Train Loss = 3049.2345, Train Accuracy = 82.97%, Validation Loss = 317.5621, Validation Accuracy = 82.58%\n",
      "Epoch 61: Train Loss = 3042.0140, Train Accuracy = 82.99%, Validation Loss = 301.7480, Validation Accuracy = 82.76%\n",
      "Epoch 62: Train Loss = 3017.9847, Train Accuracy = 83.00%, Validation Loss = 332.0440, Validation Accuracy = 82.75%\n",
      "Epoch 63: Train Loss = 3036.0870, Train Accuracy = 82.99%, Validation Loss = 389.4917, Validation Accuracy = 82.05%\n",
      "Epoch 64: Train Loss = 3023.7789, Train Accuracy = 83.00%, Validation Loss = 310.6752, Validation Accuracy = 82.68%\n",
      "Epoch 65: Train Loss = 3011.8540, Train Accuracy = 83.01%, Validation Loss = 360.4665, Validation Accuracy = 82.52%\n",
      "Epoch 66: Train Loss = 3007.1344, Train Accuracy = 83.01%, Validation Loss = 307.4118, Validation Accuracy = 82.66%\n",
      "Epoch 67: Train Loss = 2995.9001, Train Accuracy = 83.07%, Validation Loss = 303.0865, Validation Accuracy = 82.71%\n",
      "Epoch 68: Train Loss = 2987.5580, Train Accuracy = 83.04%, Validation Loss = 298.9071, Validation Accuracy = 83.12%\n",
      "Epoch 69: Train Loss = 2995.7272, Train Accuracy = 83.03%, Validation Loss = 303.1509, Validation Accuracy = 82.75%\n",
      "Epoch 70: Train Loss = 2982.2590, Train Accuracy = 83.05%, Validation Loss = 466.0645, Validation Accuracy = 82.56%\n",
      "Epoch 71: Train Loss = 2979.3189, Train Accuracy = 83.07%, Validation Loss = 307.2320, Validation Accuracy = 82.69%\n",
      "Epoch 72: Train Loss = 2966.6362, Train Accuracy = 83.09%, Validation Loss = 375.8558, Validation Accuracy = 82.51%\n",
      "Epoch 73: Train Loss = 2977.4628, Train Accuracy = 83.08%, Validation Loss = 362.1917, Validation Accuracy = 82.73%\n",
      "Epoch 74: Train Loss = 2980.3642, Train Accuracy = 83.05%, Validation Loss = 300.0793, Validation Accuracy = 82.95%\n",
      "Epoch 75: Train Loss = 2969.9606, Train Accuracy = 83.07%, Validation Loss = 296.4489, Validation Accuracy = 82.99%\n",
      "Epoch 76: Train Loss = 2965.5235, Train Accuracy = 83.13%, Validation Loss = 298.6184, Validation Accuracy = 82.77%\n",
      "Epoch 77: Train Loss = 2965.9467, Train Accuracy = 83.11%, Validation Loss = 300.5427, Validation Accuracy = 82.78%\n",
      "Epoch 78: Train Loss = 3034.9370, Train Accuracy = 83.03%, Validation Loss = 301.0174, Validation Accuracy = 82.96%\n",
      "Epoch 79: Train Loss = 2952.2714, Train Accuracy = 83.12%, Validation Loss = 297.0239, Validation Accuracy = 82.78%\n",
      "Epoch 80: Train Loss = 2947.6691, Train Accuracy = 83.16%, Validation Loss = 334.4649, Validation Accuracy = 83.17%\n",
      "Epoch 81: Train Loss = 2954.0271, Train Accuracy = 83.14%, Validation Loss = 304.3001, Validation Accuracy = 82.97%\n",
      "Epoch 82: Train Loss = 2972.1750, Train Accuracy = 83.07%, Validation Loss = 304.3831, Validation Accuracy = 82.71%\n",
      "Epoch 83: Train Loss = 2942.0812, Train Accuracy = 83.14%, Validation Loss = 356.0386, Validation Accuracy = 82.78%\n",
      "Epoch 84: Train Loss = 2947.1849, Train Accuracy = 83.12%, Validation Loss = 296.3686, Validation Accuracy = 82.95%\n",
      "Epoch 85: Train Loss = 2953.1280, Train Accuracy = 83.14%, Validation Loss = 326.4816, Validation Accuracy = 82.52%\n",
      "Epoch 86: Train Loss = 2946.2943, Train Accuracy = 83.15%, Validation Loss = 299.0911, Validation Accuracy = 83.05%\n",
      "Epoch 87: Train Loss = 2940.6643, Train Accuracy = 83.14%, Validation Loss = 317.2479, Validation Accuracy = 82.60%\n",
      "Epoch 88: Train Loss = 2933.2852, Train Accuracy = 83.18%, Validation Loss = 303.8709, Validation Accuracy = 82.82%\n",
      "Epoch 89: Train Loss = 2940.4069, Train Accuracy = 83.16%, Validation Loss = 312.4157, Validation Accuracy = 82.89%\n",
      "Epoch 90: Train Loss = 2992.3787, Train Accuracy = 83.07%, Validation Loss = 301.0427, Validation Accuracy = 82.87%\n",
      "Epoch 91: Train Loss = 2950.5627, Train Accuracy = 83.11%, Validation Loss = 309.6078, Validation Accuracy = 82.76%\n",
      "Epoch 92: Train Loss = 2927.9966, Train Accuracy = 83.16%, Validation Loss = 305.4857, Validation Accuracy = 82.79%\n",
      "Epoch 93: Train Loss = 2913.2614, Train Accuracy = 83.21%, Validation Loss = 312.2848, Validation Accuracy = 82.90%\n",
      "Epoch 94: Train Loss = 2922.4670, Train Accuracy = 83.18%, Validation Loss = 295.3586, Validation Accuracy = 83.10%\n",
      "Epoch 95: Train Loss = 2910.8129, Train Accuracy = 83.21%, Validation Loss = 292.6598, Validation Accuracy = 82.98%\n",
      "Epoch 96: Train Loss = 2933.2188, Train Accuracy = 83.14%, Validation Loss = 297.4615, Validation Accuracy = 83.11%\n",
      "Epoch 97: Train Loss = 2980.9552, Train Accuracy = 83.06%, Validation Loss = 303.4602, Validation Accuracy = 82.72%\n",
      "Epoch 98: Train Loss = 2909.7765, Train Accuracy = 83.20%, Validation Loss = 292.7511, Validation Accuracy = 83.35%\n",
      "Epoch 99: Train Loss = 2907.4550, Train Accuracy = 83.20%, Validation Loss = 296.1047, Validation Accuracy = 82.98%\n",
      "Epoch 100: Train Loss = 2892.0116, Train Accuracy = 83.24%, Validation Loss = 299.6801, Validation Accuracy = 82.94%\n"
     ]
    }
   ],
   "source": [
    "import torch.nn.functional as F\n",
    "\n",
    "# Training loop with early stopping\n",
    "epochs = 100\n",
    "patience = 20\n",
    "best_val_loss = float('inf')\n",
    "patience_counter = 0\n",
    "\n",
    "train_losses, val_losses, train_accuracies, val_accuracies = [], [], [], []\n",
    "\n",
    "for epoch in range(epochs):\n",
    "    model.train()\n",
    "    running_loss = 0.0\n",
    "    correct = 0\n",
    "\n",
    "    for X_batch, y_batch in train_loader:\n",
    "        X_batch, y_batch = X_batch.to(device), y_batch.to(device)\n",
    "        optimizer.zero_grad()\n",
    "        outputs = model(X_batch)\n",
    "        loss = criterion(outputs, y_batch)\n",
    "        loss.backward()\n",
    "        optimizer.step()\n",
    "\n",
    "        running_loss += loss.item()\n",
    "        _, predicted = torch.max(outputs, 1)\n",
    "        correct += (predicted == y_batch).sum().item()\n",
    "\n",
    "    train_accuracy = correct / len(train_loader.dataset)\n",
    "    train_losses.append(running_loss)\n",
    "    train_accuracies.append(train_accuracy)\n",
    "\n",
    "    # Validation\n",
    "    model.eval()\n",
    "    val_loss, val_correct = 0.0, 0\n",
    "    with torch.no_grad():\n",
    "        for X_val_batch, y_val_batch in val_loader:\n",
    "            X_val_batch, y_val_batch = X_val_batch.to(device), y_val_batch.to(device)\n",
    "            outputs = model(X_val_batch)\n",
    "            loss = criterion(outputs, y_val_batch)\n",
    "            val_loss += loss.item()\n",
    "            _, predicted = torch.max(outputs, 1)\n",
    "            val_correct += (predicted == y_val_batch).sum().item()\n",
    "\n",
    "    val_accuracy = val_correct / len(val_loader.dataset)\n",
    "    val_losses.append(val_loss)\n",
    "    val_accuracies.append(val_accuracy)\n",
    "\n",
    "    print(f\"Epoch {epoch+1}: Train Loss = {running_loss:.4f}, Train Accuracy = {train_accuracy:.2%}, Validation Loss = {val_loss:.4f}, Validation Accuracy = {val_accuracy:.2%}\")\n",
    "\n",
    "    # Early stopping\n",
    "    if val_loss < best_val_loss:\n",
    "        best_val_loss = val_loss\n",
    "        patience_counter = 0\n",
    "    else:\n",
    "        patience_counter += 1\n",
    "        if patience_counter >= patience:\n",
    "            print(\"Early stopping triggered.\")\n",
    "            break"
   ]
  },
  {
   "cell_type": "code",
   "execution_count": 45,
   "id": "c29c2239-5e90-4291-b9bd-b7bac8c3a4bd",
   "metadata": {},
   "outputs": [
    {
     "name": "stdout",
     "output_type": "stream",
     "text": [
      "Test Loss = 2784.7364, Test Accuracy = 83.49%\n"
     ]
    }
   ],
   "source": [
    "# Test Accuracy\n",
    "model.eval()\n",
    "test_correct, test_loss = 0, 0.0\n",
    "all_predicted, all_true = [], []\n",
    "\n",
    "with torch.no_grad():\n",
    "    for X_test_batch, y_test_batch in test_loader:\n",
    "        X_test_batch, y_test_batch = X_test_batch.to(device), y_test_batch.to(device)\n",
    "        outputs = model(X_test_batch)\n",
    "        loss = criterion(outputs, y_test_batch)\n",
    "        test_loss += loss.item()\n",
    "        _, predicted = torch.max(outputs, 1)\n",
    "        test_correct += (predicted == y_test_batch).sum().item()\n",
    "        all_predicted.extend(predicted.cpu().numpy())\n",
    "        all_true.extend(y_test_batch.cpu().numpy())\n",
    "\n",
    "test_accuracy = test_correct / len(test_loader.dataset)\n",
    "print(f\"Test Loss = {test_loss:.4f}, Test Accuracy = {test_accuracy:.2%}\")"
   ]
  },
  {
   "cell_type": "code",
   "execution_count": 47,
   "id": "58580432-4a14-45a5-8621-0b3da0e5dac5",
   "metadata": {},
   "outputs": [
    {
     "data": {
      "image/png": "[encoded data removed]",
      "text/plain": [
       "<Figure size 432x288 with 2 Axes>"
      ]
     },
     "metadata": {
      "needs_background": "light"
     },
     "output_type": "display_data"
    }
   ],
   "source": [
    "import matplotlib.pyplot as plt\n",
    "from sklearn.metrics import confusion_matrix, ConfusionMatrixDisplay\n",
    "\n",
    "# Confusion Matrix\n",
    "cm = confusion_matrix(all_true, all_predicted, labels=[0, 1, 2])\n",
    "cmd = ConfusionMatrixDisplay(confusion_matrix=cm, display_labels=[\"BAD\", \"AVG\", \"GOOD\"])\n",
    "cmd.plot(cmap=plt.cm.Blues)\n",
    "plt.title(\"Confusion Matrix\")\n",
    "plt.show()"
   ]
  },
  {
   "cell_type": "code",
   "execution_count": 48,
   "id": "aea240c8-8b4a-4051-95df-d0fecc71894f",
   "metadata": {},
   "outputs": [
    {
     "name": "stdout",
     "output_type": "stream",
     "text": [
      "Mean Squared Error (MSE): 0.3324\n"
     ]
    }
   ],
   "source": [
    "from sklearn.metrics import mean_squared_error\n",
    "\n",
    "# MSE calculation\n",
    "model.eval()\n",
    "predicted_values = []\n",
    "true_values = []\n",
    "\n",
    "with torch.no_grad():\n",
    "    for X_test_batch, y_test_batch in test_loader:\n",
    "        X_test_batch = X_test_batch.to(device)\n",
    "        outputs = model(X_test_batch)\n",
    "        _, predicted = torch.max(outputs, 1)\n",
    "        predicted_values.extend(predicted.cpu().numpy())\n",
    "        true_values.extend(y_test_batch.numpy())\n",
    "\n",
    "mse = mean_squared_error(true_values, predicted_values)\n",
    "print(f\"Mean Squared Error (MSE): {mse:.4f}\")"
   ]
  },
  {
   "cell_type": "code",
   "execution_count": 49,
   "id": "4026549c-4a58-4d44-adc1-aea3573751e3",
   "metadata": {},
   "outputs": [
    {
     "data": {
      "image/png": "[encoded data removed]",
      "text/plain": [
       "<Figure size 576x432 with 1 Axes>"
      ]
     },
     "metadata": {
      "needs_background": "light"
     },
     "output_type": "display_data"
    }
   ],
   "source": [
    "# Plot train vs validation loss\n",
    "plt.figure(figsize=(8, 6))\n",
    "plt.plot(range(1, len(train_losses) + 1), train_losses, label=\"Train Loss\")\n",
    "plt.plot(range(1, len(val_losses) + 1), val_losses, label=\"Validation Loss\")\n",
    "plt.xlabel(\"Epochs\")\n",
    "plt.ylabel(\"Loss\")\n",
    "plt.title(\"Train vs Validation Loss\")\n",
    "plt.legend()\n",
    "plt.grid(True)\n",
    "plt.show()"
   ]
  },
  {
   "cell_type": "code",
   "execution_count": 50,
   "id": "4bfeb258-6a07-42dd-8bcb-d0e3c1f9a694",
   "metadata": {},
   "outputs": [
    {
     "data": {
      "image/png": "[encoded data removed]",
      "text/plain": [
       "<Figure size 576x432 with 1 Axes>"
      ]
     },
     "metadata": {
      "needs_background": "light"
     },
     "output_type": "display_data"
    }
   ],
   "source": [
    "# Plot train vs validation accuracy\n",
    "plt.figure(figsize=(8, 6))\n",
    "plt.plot(range(1, len(train_accuracies) + 1), train_accuracies, label=\"Train Accuracy\")\n",
    "plt.plot(range(1, len(val_accuracies) + 1), val_accuracies, label=\"Validation Accuracy\")\n",
    "plt.xlabel(\"Epochs\")\n",
    "plt.ylabel(\"Accuracy\")\n",
    "plt.title(\"Train vs Validation Accuracy\")\n",
    "plt.legend()\n",
    "plt.grid(True)\n",
    "plt.show()"
   ]
  },
  {
   "cell_type": "code",
   "execution_count": 52,
   "id": "a8fdf740-2ac7-4682-84f5-6200cff98804",
   "metadata": {},
   "outputs": [
    {
     "data": {
      "image/png": "[encoded data removed]",
      "text/plain": [
       "<Figure size 576x432 with 1 Axes>"
      ]
     },
     "metadata": {
      "needs_background": "light"
     },
     "output_type": "display_data"
    }
   ],
   "source": [
    "# MSE visualization\n",
    "plt.figure(figsize=(8, 6))\n",
    "plt.bar([\"MSE\"], [mse], color='orange')\n",
    "plt.ylabel(\"Mean Squared Error\")\n",
    "plt.title(\"Mean Squared Error (MSE)\")\n",
    "plt.grid(True, axis='y', linestyle='--', linewidth=0.5)\n",
    "plt.show()"
   ]
  },
  {
   "cell_type": "code",
   "execution_count": 53,
   "id": "3b85f92d-a0f4-447c-a386-9d890dfb4eb4",
   "metadata": {},
   "outputs": [
    {
     "data": {
      "image/png": "[encoded data removed]",
      "text/plain": [
       "<Figure size 576x432 with 1 Axes>"
      ]
     },
     "metadata": {
      "needs_background": "light"
     },
     "output_type": "display_data"
    }
   ],
   "source": [
    "# Test accuracy visualization\n",
    "plt.figure(figsize=(8, 6))\n",
    "plt.bar([\"Test Accuracy\"], [test_accuracy], color='green')\n",
    "plt.ylabel(\"Accuracy\")\n",
    "plt.title(\"Test Accuracy\")\n",
    "plt.ylim(0, 1)\n",
    "plt.grid(True, axis='y', linestyle='--', linewidth=0.5)\n",
    "plt.show()"
   ]
  },
  {
   "cell_type": "code",
   "execution_count": 54,
   "id": "697f13b9-8a36-4a0b-96fa-ca4757647ef9",
   "metadata": {},
   "outputs": [
    {
     "data": {
      "image/png": "[encoded data removed]",
      "text/plain": [
       "<Figure size 576x432 with 1 Axes>"
      ]
     },
     "metadata": {
      "needs_background": "light"
     },
     "output_type": "display_data"
    }
   ],
   "source": [
    "# Plot train vs test accuracy\n",
    "plt.figure(figsize=(8, 6))\n",
    "plt.bar([\"Train Accuracy\", \"Test Accuracy\"], [train_accuracies[-1], test_accuracy], color=['blue', 'green'])\n",
    "plt.ylabel(\"Accuracy\")\n",
    "plt.title(\"Train vs Test Accuracy\")\n",
    "plt.ylim(0, 1)\n",
    "plt.grid(True, axis='y', linestyle='--', linewidth=0.5)\n",
    "plt.show()"
   ]
  },
  {
   "cell_type": "code",
   "execution_count": 57,
   "id": "6169dd38-214c-4a36-9de4-5a1f4a5653eb",
   "metadata": {},
   "outputs": [
    {
     "data": {
      "image/png": "[encoded data removed]",
      "text/plain": [
       "<Figure size 576x432 with 1 Axes>"
      ]
     },
     "metadata": {
      "needs_background": "light"
     },
     "output_type": "display_data"
    }
   ],
   "source": [
    "# Plot train vs test accuracy\n",
    "plt.figure(figsize=(8, 6))\n",
    "plt.plot(range(1, len(train_accuracies) + 1), train_accuracies, label=\"Train Accuracy\")\n",
    "plt.hlines(test_accuracy, 1, len(train_accuracies), colors='orange', label=\"Test Accuracy\", linestyles='dashed')\n",
    "plt.xlabel(\"Epochs\")\n",
    "plt.ylabel(\"Accuracy\")\n",
    "plt.title(\"Train vs Test Accuracy\")\n",
    "plt.legend()\n",
    "plt.grid(True)\n",
    "plt.show()"
   ]
  },
  {
   "cell_type": "code",
   "execution_count": 58,
   "id": "919107fa-374c-4574-a6af-e077387c4d29",
   "metadata": {},
   "outputs": [
    {
     "name": "stdout",
     "output_type": "stream",
     "text": [
      "Total Trainable Parameters: 80899\n"
     ]
    }
   ],
   "source": [
    "# Function to calculate the total number of parameters\n",
    "def count_parameters(model):\n",
    "    return sum(p.numel() for p in model.parameters() if p.requires_grad)\n",
    "\n",
    "# Display the total number of trainable parameters\n",
    "total_params = count_parameters(model)\n",
    "print(f\"Total Trainable Parameters: {total_params}\")"
   ]
  },
  {
   "cell_type": "code",
   "execution_count": 65,
   "id": "2cc3169a-9e83-48e6-ab0c-722eadc16016",
   "metadata": {},
   "outputs": [
    {
     "name": "stdout",
     "output_type": "stream",
     "text": [
      "          Name       Type  Params\n",
      "0        conv1     Conv1d     128\n",
      "1         pool  MaxPool1d       0\n",
      "2        conv2     Conv1d    6208\n",
      "3        conv3     Conv1d   24704\n",
      "4  dropout_cnn    Dropout       0\n",
      "5         lstm       LSTM   49664\n",
      "6           fc     Linear     195\n"
     ]
    }
   ],
   "source": [
    "# Model parameters table\n",
    "def show_parameters(model):\n",
    "    params = [(name, module.__class__.__name__, sum(p.numel() for p in module.parameters() if p.requires_grad))\n",
    "              for name, module in model.named_children()]\n",
    "    df = pd.DataFrame(params, columns=[\"Name\", \"Type\", \"Params\"])\n",
    "    print(df)\n",
    "\n",
    "# Call the function with your model\n",
    "show_parameters(model)"
   ]
  },
  {
   "cell_type": "code",
   "execution_count": null,
   "id": "3c16a99e-8569-4526-a47c-15d3e38701bf",
   "metadata": {},
   "outputs": [],
   "source": []
  }
 ],
 "metadata": {
  "kernelspec": {
   "display_name": "Python 3 (ipykernel)",
   "language": "python",
   "name": "python3"
  },
  "language_info": {
   "codemirror_mode": {
    "name": "ipython",
    "version": 3
   },
   "file_extension": ".py",
   "mimetype": "text/x-python",
   "name": "python",
   "nbconvert_exporter": "python",
   "pygments_lexer": "ipython3",
   "version": "3.9.12"
  }
 },
 "nbformat": 4,
 "nbformat_minor": 5
}